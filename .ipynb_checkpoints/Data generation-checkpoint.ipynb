{
 "cells": [
  {
   "cell_type": "code",
   "execution_count": 1,
   "id": "83532777",
   "metadata": {},
   "outputs": [],
   "source": [
    "import simdna\n",
    "from simdna import synthetic as sn\n",
    "import numpy as np\n",
    "from collections import defaultdict"
   ]
  },
  {
   "cell_type": "code",
   "execution_count": 2,
   "id": "220712b3",
   "metadata": {},
   "outputs": [],
   "source": [
    "SEQUENCE_LENGTH = 200\n",
    "SAMPLE_COUNT = 10000\n",
    "BACKGROUND_DISTRIBUTION = {'A':0.3, 'C':0.2, 'G':0.2, 'T':0.3}\n",
    "\n",
    "background = sn.ZeroOrderBackgroundGenerator(SEQUENCE_LENGTH, discreteDistribution=BACKGROUND_DISTRIBUTION)\n",
    "\n",
    "# position generator\n",
    "position_generator = sn.UniformPositionGenerator()"
   ]
  },
  {
   "cell_type": "code",
   "execution_count": 3,
   "id": "69351be5",
   "metadata": {},
   "outputs": [],
   "source": [
    "data_bundle = [[\"GATA_disc1\"], [\"TAL1_known1\"], [\"GATA_disc1\", \"TAL1_known1\"], []]\n",
    "\n",
    "# motif_names = [\"GATA_disc1\", \"TAL1_known1\"] "
   ]
  },
  {
   "cell_type": "code",
   "execution_count": 4,
   "id": "747dfd65",
   "metadata": {},
   "outputs": [],
   "source": [
    "def get_quantity_generator(count):\n",
    "    if count == 1:\n",
    "        return sn.MinMaxWrapper(sn.PoissonQuantityGenerator(2), theMin=1, theMax=3)\n",
    "    elif count == 2:\n",
    "        return sn.MinMaxWrapper(sn.PoissonQuantityGenerator(1), theMin=1, theMax=3)\n",
    "    else:\n",
    "        return 0"
   ]
  },
  {
   "cell_type": "code",
   "execution_count": 5,
   "id": "071acad7",
   "metadata": {},
   "outputs": [],
   "source": [
    "loaded_motifs = sn.LoadedEncodeMotifs(simdna.ENCODE_MOTIFS_PATH, pseudocountProb=0.001)"
   ]
  },
  {
   "cell_type": "code",
   "execution_count": 6,
   "id": "3bdad5a7",
   "metadata": {},
   "outputs": [],
   "source": [
    "data_out = []\n",
    "for motifs in data_bundle:\n",
    "    embedders = [\n",
    "        sn.RepeatedEmbedder(\n",
    "            sn.SubstringEmbedder(\n",
    "                sn.PwmSamplerFromLoadedMotifs(loaded_motifs, motif_name),\n",
    "                position_generator, \n",
    "                name=motif_name\n",
    "            ),\n",
    "            get_quantity_generator(len(motifs))\n",
    "        ) for motif_name in motifs]\n",
    "    \n",
    "    embedder = sn.EmbedInABackground(background, embedders)\n",
    "    embedded = list(sn.GenerateSequenceNTimes(embedder, SAMPLE_COUNT).generateSequences())\n",
    "    data_out = data_out + embedded"
   ]
  },
  {
   "cell_type": "code",
   "execution_count": 7,
   "id": "0b6f7d58",
   "metadata": {},
   "outputs": [],
   "source": [
    "with open('training.npy', 'wb') as f:\n",
    "    np.save(f, data_out)"
   ]
  },
  {
   "cell_type": "code",
   "execution_count": null,
   "id": "471a9749",
   "metadata": {},
   "outputs": [],
   "source": []
  }
 ],
 "metadata": {
  "kernelspec": {
   "display_name": "Python 3",
   "language": "python",
   "name": "python3"
  },
  "language_info": {
   "codemirror_mode": {
    "name": "ipython",
    "version": 3
   },
   "file_extension": ".py",
   "mimetype": "text/x-python",
   "name": "python",
   "nbconvert_exporter": "python",
   "pygments_lexer": "ipython3",
   "version": "3.7.10"
  }
 },
 "nbformat": 4,
 "nbformat_minor": 5
}
