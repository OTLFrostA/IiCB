{
 "cells": [
  {
   "cell_type": "code",
   "execution_count": 1,
   "id": "eOBa3cvuxZ5q",
   "metadata": {
    "colab": {
     "base_uri": "https://localhost:8080/"
    },
    "executionInfo": {
     "elapsed": 23316,
     "status": "ok",
     "timestamp": 1635989119494,
     "user": {
      "displayName": "Wenbo Cui",
      "photoUrl": "https://lh3.googleusercontent.com/a/default-user=s64",
      "userId": "17753742665139675012"
     },
     "user_tz": 240
    },
    "id": "eOBa3cvuxZ5q",
    "outputId": "ddfa93ed-b579-4df6-ca64-a416cc1c9418"
   },
   "outputs": [
    {
     "name": "stdout",
     "output_type": "stream",
     "text": [
      "Tensorflow version: 1.15.0\n",
      "Keras version: 2.2.4\n",
      "Numpy version: 1.21.2\n"
     ]
    },
    {
     "name": "stderr",
     "output_type": "stream",
     "text": [
      "Using TensorFlow backend.\n"
     ]
    }
   ],
   "source": [
    "%run common.ipynb"
   ]
  },
  {
   "cell_type": "code",
   "execution_count": 2,
   "id": "58fb7870",
   "metadata": {},
   "outputs": [],
   "source": [
    "from deeplift.layers import NonlinearMxtsMode\n",
    "import deeplift.conversion.kerasapi_conversion as kc\n",
    "from collections import OrderedDict\n",
    "import deeplift\n",
    "from deeplift.util import compile_func\n",
    "import sys, os"
   ]
  },
  {
   "cell_type": "code",
   "execution_count": 3,
   "id": "af1e512c",
   "metadata": {},
   "outputs": [],
   "source": [
    "SIX5_disc1 = 'SIX5_disc1'\n",
    "MYC_disc1 = 'MYC_disc1'\n",
    "SRF_disc1 = 'SRF_disc1'\n",
    "AP1_disc1 = 'AP1_disc1'\n",
    "GATA_disc1 = 'GATA_disc1'\n",
    "TAL1_known1 = 'TAL1_known1'\n",
    "IRF_known1 = 'IRF_known1'\n",
    "all_motifs = [SRF_disc1, AP1_disc1, GATA_disc1, TAL1_known1, IRF_known1]"
   ]
  },
  {
   "cell_type": "code",
   "execution_count": 5,
   "id": "8b3a9a22",
   "metadata": {},
   "outputs": [],
   "source": [
    "def percent(mean, std, data):\n",
    "    p = 0\n",
    "    for d in data:\n",
    "        if d > mean - std and d < mean + std:\n",
    "            p += 1\n",
    "    return p/data.shape[0]"
   ]
  },
  {
   "cell_type": "code",
   "execution_count": 8,
   "id": "2ZSTPsh-5eSU",
   "metadata": {
    "colab": {
     "base_uri": "https://localhost:8080/"
    },
    "executionInfo": {
     "elapsed": 114181,
     "status": "ok",
     "timestamp": 1635991544010,
     "user": {
      "displayName": "Wenbo Cui",
      "photoUrl": "https://lh3.googleusercontent.com/a/default-user=s64",
      "userId": "17753742665139675012"
     },
     "user_tz": 240
    },
    "id": "2ZSTPsh-5eSU",
    "outputId": "5482e66c-8755-4220-a047-5cfed4477537"
   },
   "outputs": [
    {
     "name": "stdout",
     "output_type": "stream",
     "text": [
      "nonlinear_mxts_mode is set to: DeepLIFT_GenomicsDefault\n",
      "For layer 1 the preceding linear layer is 0 of type Conv1D;\n",
      "In accordance with nonlinear_mxts_mode=DeepLIFT_GenomicsDefault we are setting the NonlinearMxtsMode to Rescale\n",
      "For layer 3 the preceding linear layer is 2 of type Conv1D;\n",
      "In accordance with nonlinear_mxts_mode=DeepLIFT_GenomicsDefault we are setting the NonlinearMxtsMode to Rescale\n",
      "For layer 7 the preceding linear layer is 6 of type Dense;\n",
      "In accordance with nonlinear_mxts_modeDeepLIFT_GenomicsDefault we are setting the NonlinearMxtsMode to RevealCancel\n",
      "For layer 10 the preceding linear layer is 9 of type Dense;\n",
      "In accordance with nonlinear_mxts_modeDeepLIFT_GenomicsDefault we are setting the NonlinearMxtsMode to RevealCancel\n",
      "Background mean:  -0.04692414 Background std:  0.054060053\n",
      "Motif:  SRF_disc1\n",
      "Percent 1 std:  1.32%\n",
      "Motif:  AP1_disc1\n",
      "Percent 1 std:  2.29%\n"
     ]
    }
   ],
   "source": [
    "output = []\n",
    "data_bundles = []\n",
    "outputs = []\n",
    "\n",
    "# all_runs = [('model/model_' + motif + '.h5', \n",
    "#              'model/model_' + motif + '.json', \n",
    "#              'data/testing_' + motif + '.npy', \n",
    "#              check(motif)) \n",
    "#             for motif in all_motifs]\n",
    "all_runs = []\n",
    "for i in range(len(all_motifs)):\n",
    "    for j in range(i + 1, len(all_motifs)):\n",
    "        all_runs.append(('model/model_and_' + str(i) + '_' + str(j) + '.h5', \n",
    "             'model/model_and_' + str(i) + '_' + str(j) + '.json', \n",
    "             'data/testing_' + str(i) + '_' + str(j) + '.npy', \n",
    "             check_or(all_motifs[i], all_motifs[j])))\n",
    "\n",
    "\n",
    "for keras_model_weights, keras_model_json, testing_data_path, method in all_runs:\n",
    "    sys.stdout = open(os.devnull, 'w')\n",
    "    data = load_data(method, testing_data_path)\n",
    "\n",
    "    model = kc.convert_model_from_saved_files(\n",
    "                h5_file=keras_model_weights,\n",
    "                json_file=keras_model_json,\n",
    "                nonlinear_mxts_mode=NonlinearMxtsMode.DeepLIFT_GenomicsDefault)\n",
    "      \n",
    "    score_func = model.get_target_contribs_func(find_scores_layer_idx=0, target_layer_idx=-2)\n",
    "\n",
    "    background = OrderedDict([('A', 0.3), ('C', 0.2), ('G', 0.2), ('T', 0.3)])\n",
    "\n",
    "    all_scores = np.zeros((3, data.onehot.shape[0], data.onehot.shape[1]))\n",
    "    for task_idx in [0,1,2]:\n",
    "        scores = np.array(score_func(\n",
    "                                task_idx=task_idx,\n",
    "                                input_data_list=[data.onehot],\n",
    "                                input_references_list=[\n",
    "                                    np.array([\n",
    "                                        background['A'], \n",
    "                                        background['C'], \n",
    "                                        background['G'], \n",
    "                                        background['T']])\n",
    "                                    [None,None,:]],\n",
    "                                batch_size=200,\n",
    "                                progress_update=None))\n",
    "    scores = np.sum(scores, axis=2)\n",
    "    all_scores[task_idx] = scores\n",
    "    \n",
    "    all_scores = np.average(all_scores, axis=0)\n",
    "    mask = np.zeros(all_scores.shape)\n",
    "    \n",
    "    motif_scores = OrderedDict()\n",
    "    for motif in all_motifs:\n",
    "        motif_scores[motif] = []\n",
    "\n",
    "    for idx in range(len(scores)):\n",
    "        for embedding in data.embeddings[idx]:\n",
    "            for motif in all_motifs:\n",
    "                if motif in embedding.what.getDescription():\n",
    "                    motif_scores[motif].append(all_scores[idx, embedding.startPos:embedding.startPos+len(embedding.what)])\n",
    "                    mask[idx, embedding.startPos:embedding.startPos+len(embedding.what)] = 1\n",
    "    background = scores[np.where(mask == 0)]\n",
    "    sys.stdout = sys.__stdout__\n",
    "    print('Background mean: ', np.mean(background), 'Background std: ', np.std(background))\n",
    "    for motif in all_motifs:\n",
    "        motif_scores[motif] = np.array(motif_scores[motif])\n",
    "        \n",
    "        motif_score = motif_scores[motif]\n",
    "        if len(motif_score) == 0:\n",
    "            continue\n",
    "        motif_score_mean = np.mean(motif_score, axis=1)\n",
    "        print('Motif: ', motif)\n",
    "        print(\n",
    "#               'Motif char mean: ', np.mean(motif_score), \n",
    "#               'Motif char std: ', np.std(motif_score), \n",
    "#               'Motif mean std: ', np.std(motif_score_mean), \n",
    "#               'Motif mean min: ', np.min(motif_score_mean), \n",
    "#               'Motif mean max: ', np.max(motif_score_mean), \n",
    "              'Percent 1 std: ', \"{:.2%}\".format(percent(np.mean(background), np.std(background), motif_score_mean)))"
   ]
  },
  {
   "cell_type": "code",
   "execution_count": null,
   "id": "09048c82",
   "metadata": {},
   "outputs": [],
   "source": []
  }
 ],
 "metadata": {
  "colab": {
   "collapsed_sections": [],
   "name": "Explanation.ipynb",
   "provenance": []
  },
  "kernelspec": {
   "display_name": "Python 3",
   "language": "python",
   "name": "python3"
  },
  "language_info": {
   "codemirror_mode": {
    "name": "ipython",
    "version": 3
   },
   "file_extension": ".py",
   "mimetype": "text/x-python",
   "name": "python",
   "nbconvert_exporter": "python",
   "pygments_lexer": "ipython3",
   "version": "3.7.11"
  }
 },
 "nbformat": 4,
 "nbformat_minor": 5
}
