{
 "cells": [
  {
   "cell_type": "code",
   "execution_count": 1,
   "id": "eOBa3cvuxZ5q",
   "metadata": {
    "colab": {
     "base_uri": "https://localhost:8080/"
    },
    "executionInfo": {
     "elapsed": 23316,
     "status": "ok",
     "timestamp": 1635989119494,
     "user": {
      "displayName": "Wenbo Cui",
      "photoUrl": "https://lh3.googleusercontent.com/a/default-user=s64",
      "userId": "17753742665139675012"
     },
     "user_tz": 240
    },
    "id": "eOBa3cvuxZ5q",
    "outputId": "ddfa93ed-b579-4df6-ca64-a416cc1c9418"
   },
   "outputs": [
    {
     "name": "stdout",
     "output_type": "stream",
     "text": [
      "Tensorflow version: 1.15.0\n",
      "Keras version: 2.2.4\n",
      "Numpy version: 1.21.2\n"
     ]
    },
    {
     "name": "stderr",
     "output_type": "stream",
     "text": [
      "Using TensorFlow backend.\n"
     ]
    }
   ],
   "source": [
    "%run common.ipynb"
   ]
  },
  {
   "cell_type": "code",
   "execution_count": 2,
   "id": "58fb7870",
   "metadata": {},
   "outputs": [],
   "source": [
    "from deeplift.layers import NonlinearMxtsMode\n",
    "import deeplift.conversion.kerasapi_conversion as kc\n",
    "from collections import OrderedDict\n",
    "import deeplift\n",
    "from deeplift.util import compile_func\n",
    "from tqdm import tqdm"
   ]
  },
  {
   "cell_type": "code",
   "execution_count": 3,
   "id": "af1e512c",
   "metadata": {},
   "outputs": [],
   "source": [
    "SIX5_disc1 = 'SIX5_disc1'\n",
    "MYC_disc1 = 'MYC_disc1'\n",
    "SRF_disc1 = 'SRF_disc1'\n",
    "AP1_disc1 = 'AP1_disc1'\n",
    "GATA_disc1 = 'GATA_disc1'\n",
    "TAL1_known1 = 'TAL1_known1'\n",
    "IRF_known1 = 'IRF_known1'\n",
    "all_motifs = [SRF_disc1, AP1_disc1, GATA_disc1, TAL1_known1, IRF_known1]"
   ]
  },
  {
   "cell_type": "code",
   "execution_count": 4,
   "id": "2ZSTPsh-5eSU",
   "metadata": {
    "colab": {
     "base_uri": "https://localhost:8080/"
    },
    "executionInfo": {
     "elapsed": 114181,
     "status": "ok",
     "timestamp": 1635991544010,
     "user": {
      "displayName": "Wenbo Cui",
      "photoUrl": "https://lh3.googleusercontent.com/a/default-user=s64",
      "userId": "17753742665139675012"
     },
     "user_tz": 240
    },
    "id": "2ZSTPsh-5eSU",
    "outputId": "5482e66c-8755-4220-a047-5cfed4477537"
   },
   "outputs": [
    {
     "ename": "NameError",
     "evalue": "name 'i' is not defined",
     "output_type": "error",
     "traceback": [
      "\u001b[0;31m---------------------------------------------------------------------------\u001b[0m",
      "\u001b[0;31mNameError\u001b[0m                                 Traceback (most recent call last)",
      "\u001b[0;32m<ipython-input-4-d057386a9025>\u001b[0m in \u001b[0;36m<module>\u001b[0;34m\u001b[0m\n\u001b[1;32m     13\u001b[0m              \u001b[0;34m'data/testing_'\u001b[0m \u001b[0;34m+\u001b[0m \u001b[0mstr\u001b[0m\u001b[0;34m(\u001b[0m\u001b[0mi\u001b[0m\u001b[0;34m)\u001b[0m \u001b[0;34m+\u001b[0m \u001b[0;34m'_'\u001b[0m \u001b[0;34m+\u001b[0m \u001b[0mstr\u001b[0m\u001b[0;34m(\u001b[0m\u001b[0mj\u001b[0m\u001b[0;34m)\u001b[0m \u001b[0;34m+\u001b[0m \u001b[0;34m'.npy'\u001b[0m\u001b[0;34m,\u001b[0m\u001b[0;34m\u001b[0m\u001b[0;34m\u001b[0m\u001b[0m\n\u001b[1;32m     14\u001b[0m              check_or(all_motifs[i], all_motifs[j])) \n\u001b[0;32m---> 15\u001b[0;31m             \u001b[0;32mfor\u001b[0m \u001b[0mj\u001b[0m \u001b[0;32min\u001b[0m \u001b[0mrange\u001b[0m\u001b[0;34m(\u001b[0m\u001b[0mi\u001b[0m \u001b[0;34m+\u001b[0m \u001b[0;36m1\u001b[0m\u001b[0;34m,\u001b[0m \u001b[0mlen\u001b[0m\u001b[0;34m(\u001b[0m\u001b[0mall_motifs\u001b[0m\u001b[0;34m)\u001b[0m\u001b[0;34m)\u001b[0m\u001b[0;34m\u001b[0m\u001b[0;34m\u001b[0m\u001b[0m\n\u001b[0m\u001b[1;32m     16\u001b[0m                 for i in range(len(all_motifs))]\n\u001b[1;32m     17\u001b[0m \u001b[0;34m\u001b[0m\u001b[0m\n",
      "\u001b[0;31mNameError\u001b[0m: name 'i' is not defined"
     ]
    }
   ],
   "source": [
    "output = []\n",
    "data_bundles = []\n",
    "outputs = []\n",
    "\n",
    "# all_runs = [('model/model_' + motif + '.h5', \n",
    "#              'model/model_' + motif + '.json', \n",
    "#              'data/testing_' + motif + '.npy', \n",
    "#              check(motif)) \n",
    "#             for motif in all_motifs]\n",
    "all_runs = []\n",
    "for i in range(len(all_motifs)):\n",
    "    for j in range(i + 1, len(all_motifs)):\n",
    "        all_runs.append(('model/model_' + str(i) + '_' + str(j) + '.h5', \n",
    "             'model/model_' + str(i) + '_' + str(j) + '.json', \n",
    "             'data/testing_' + str(i) + '_' + str(j) + '.npy', \n",
    "             check_or(all_motifs[i], all_motifs[j])))\n",
    "\n",
    "\n",
    "for keras_model_weights, keras_model_json, testing_data_path, method in tqdm(all_runs):\n",
    "    data = load_data(method, testing_data_path)\n",
    "\n",
    "    model = kc.convert_model_from_saved_files(\n",
    "                h5_file=keras_model_weights,\n",
    "                json_file=keras_model_json,\n",
    "                nonlinear_mxts_mode=NonlinearMxtsMode.DeepLIFT_GenomicsDefault)\n",
    "      \n",
    "    score_func = model.get_target_contribs_func(find_scores_layer_idx=0, target_layer_idx=-2)\n",
    "\n",
    "    background = OrderedDict([('A', 0.3), ('C', 0.2), ('G', 0.2), ('T', 0.3)])\n",
    "\n",
    "    all_scores = np.zeros((3, data.onehot.shape[0], data.onehot.shape[1]))\n",
    "    for task_idx in [0,1,2]:\n",
    "        scores = np.array(score_func(\n",
    "                                task_idx=task_idx,\n",
    "                                input_data_list=[data.onehot],\n",
    "                                input_references_list=[\n",
    "                                    np.array([\n",
    "                                        background['A'], \n",
    "                                        background['C'], \n",
    "                                        background['G'], \n",
    "                                        background['T']])\n",
    "                                    [None,None,:]],\n",
    "                                batch_size=200,\n",
    "                                progress_update=None))\n",
    "    scores = np.sum(scores, axis=2)\n",
    "    all_scores[task_idx] = scores\n",
    "    \n",
    "    all_scores = np.average(all_scores, axis=0)\n",
    "    \n",
    "    motif_scores = OrderedDict()\n",
    "    for motif in all_motifs:\n",
    "        motif_scores[motif] = []\n",
    "\n",
    "    for idx in range(len(scores)):\n",
    "        for embedding in data.embeddings[idx]:\n",
    "            for motif in all_motifs:\n",
    "                if motif in embedding.what.getDescription():\n",
    "                    motif_scores[motif].append(\n",
    "                        np.mean(all_scores[idx, embedding.startPos:embedding.startPos+len(embedding.what)]))\n",
    "    \n",
    "    for motif in all_motifs:\n",
    "        motif_scores[motif] = np.array(motif_scores[motif])\n",
    "print(motif_scores)"
   ]
  },
  {
   "cell_type": "code",
   "execution_count": null,
   "id": "0219b2fb",
   "metadata": {},
   "outputs": [],
   "source": []
  }
 ],
 "metadata": {
  "colab": {
   "collapsed_sections": [],
   "name": "Explanation.ipynb",
   "provenance": []
  },
  "kernelspec": {
   "display_name": "Python 3",
   "language": "python",
   "name": "python3"
  },
  "language_info": {
   "codemirror_mode": {
    "name": "ipython",
    "version": 3
   },
   "file_extension": ".py",
   "mimetype": "text/x-python",
   "name": "python",
   "nbconvert_exporter": "python",
   "pygments_lexer": "ipython3",
   "version": "3.7.11"
  }
 },
 "nbformat": 4,
 "nbformat_minor": 5
}
