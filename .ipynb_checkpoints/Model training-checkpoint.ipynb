{
 "cells": [
  {
   "cell_type": "code",
   "execution_count": 1,
   "id": "cbba3c6e",
   "metadata": {},
   "outputs": [
    {
     "name": "stdout",
     "output_type": "stream",
     "text": [
      "Tensorflow version: 1.14.0\n",
      "Keras version: 2.2.4\n",
      "Numpy version: 1.20.3\n"
     ]
    },
    {
     "name": "stderr",
     "output_type": "stream",
     "text": [
      "Using TensorFlow backend.\n"
     ]
    }
   ],
   "source": [
    "%run common.ipynb"
   ]
  },
  {
   "cell_type": "code",
   "execution_count": 2,
   "id": "824d3a9d",
   "metadata": {},
   "outputs": [],
   "source": [
    "data = load_training_data()"
   ]
  },
  {
   "cell_type": "code",
   "execution_count": 4,
   "id": "8aba2e25",
   "metadata": {},
   "outputs": [
    {
     "name": "stdout",
     "output_type": "stream",
     "text": [
      "WARNING:tensorflow:From /home/wenboc/anaconda3/envs/deeplift/lib/python3.7/site-packages/keras/backend/tensorflow_backend.py:517: The name tf.placeholder is deprecated. Please use tf.compat.v1.placeholder instead.\n",
      "\n",
      "WARNING:tensorflow:From /home/wenboc/anaconda3/envs/deeplift/lib/python3.7/site-packages/keras/backend/tensorflow_backend.py:4138: The name tf.random_uniform is deprecated. Please use tf.random.uniform instead.\n",
      "\n",
      "WARNING:tensorflow:From /home/wenboc/anaconda3/envs/deeplift/lib/python3.7/site-packages/keras/backend/tensorflow_backend.py:3980: The name tf.nn.avg_pool is deprecated. Please use tf.nn.avg_pool2d instead.\n",
      "\n",
      "WARNING:tensorflow:From /home/wenboc/anaconda3/envs/deeplift/lib/python3.7/site-packages/keras/backend/tensorflow_backend.py:131: The name tf.get_default_graph is deprecated. Please use tf.compat.v1.get_default_graph instead.\n",
      "\n",
      "WARNING:tensorflow:From /home/wenboc/anaconda3/envs/deeplift/lib/python3.7/site-packages/keras/backend/tensorflow_backend.py:133: The name tf.placeholder_with_default is deprecated. Please use tf.compat.v1.placeholder_with_default instead.\n",
      "\n",
      "WARNING:tensorflow:From /home/wenboc/anaconda3/envs/deeplift/lib/python3.7/site-packages/keras/backend/tensorflow_backend.py:3445: calling dropout (from tensorflow.python.ops.nn_ops) with keep_prob is deprecated and will be removed in a future version.\n",
      "Instructions for updating:\n",
      "Please use `rate` instead of `keep_prob`. Rate should be set to `rate = 1 - keep_prob`.\n",
      "WARNING:tensorflow:From /home/wenboc/anaconda3/envs/deeplift/lib/python3.7/site-packages/keras/backend/tensorflow_backend.py:174: The name tf.get_default_session is deprecated. Please use tf.compat.v1.get_default_session instead.\n",
      "\n"
     ]
    }
   ],
   "source": [
    "keras_model, keras_model_weights, keras_model_json = load_trained_model()"
   ]
  },
  {
   "cell_type": "code",
   "execution_count": 5,
   "id": "b6eb603c",
   "metadata": {},
   "outputs": [
    {
     "name": "stdout",
     "output_type": "stream",
     "text": [
      "WARNING:tensorflow:From /home/wenboc/anaconda3/envs/deeplift/lib/python3.7/site-packages/keras/optimizers.py:790: The name tf.train.Optimizer is deprecated. Please use tf.compat.v1.train.Optimizer instead.\n",
      "\n",
      "WARNING:tensorflow:From /home/wenboc/anaconda3/envs/deeplift/lib/python3.7/site-packages/tensorflow/python/ops/nn_impl.py:180: add_dispatch_support.<locals>.wrapper (from tensorflow.python.ops.array_ops) is deprecated and will be removed in a future version.\n",
      "Instructions for updating:\n",
      "Use tf.where in 2.0, which has the same broadcast rule as np.where\n"
     ]
    }
   ],
   "source": [
    "# Recompile model\n",
    "opt = keras.optimizers.Adam(lr=0.0001)\n",
    "keras_model.compile(optimizer=opt, loss='binary_crossentropy')"
   ]
  },
  {
   "cell_type": "code",
   "execution_count": null,
   "id": "076dc59c",
   "metadata": {},
   "outputs": [
    {
     "name": "stdout",
     "output_type": "stream",
     "text": [
      "Epoch 1/20\n",
      "40000/40000 [==============================] - 15s 368us/step - loss: 0.1017\n",
      "Epoch 2/20\n",
      "40000/40000 [==============================] - 10s 247us/step - loss: 0.1002\n",
      "Epoch 3/20\n",
      "40000/40000 [==============================] - 11s 264us/step - loss: 0.0998\n",
      "Epoch 4/20\n",
      "40000/40000 [==============================] - 10s 243us/step - loss: 0.0979\n",
      "Epoch 5/20\n",
      "40000/40000 [==============================] - 9s 229us/step - loss: 0.0986\n",
      "Epoch 6/20\n",
      "12032/40000 [========>.....................] - ETA: 6s - loss: 0.0948"
     ]
    }
   ],
   "source": [
    "# Fit model\n",
    "keras_model.fit(x=data.onehot, y=data.labels, epochs=20, shuffle=True)"
   ]
  },
  {
   "cell_type": "code",
   "execution_count": 7,
   "id": "718561ff",
   "metadata": {},
   "outputs": [],
   "source": [
    "test_data = load_testing_data()"
   ]
  },
  {
   "cell_type": "code",
   "execution_count": 8,
   "id": "f394def9",
   "metadata": {},
   "outputs": [
    {
     "name": "stdout",
     "output_type": "stream",
     "text": [
      "0.9915396666666667\n"
     ]
    }
   ],
   "source": [
    "output = np.average(keras_model.predict(x=test_data.onehot), axis=1)\n",
    "\n",
    "from sklearn.metrics import roc_curve\n",
    "fpr_keras, tpr_keras, thresholds_keras = roc_curve(test_data.labels[:, 0], output)\n",
    "\n",
    "from sklearn.metrics import auc\n",
    "auc_keras = auc(fpr_keras, tpr_keras)\n",
    "print(auc_keras)\n",
    "\n",
    "import matplotlib.pyplot as plt\n",
    "plt.plot(range(len(output)), output, 'o');"
   ]
  },
  {
   "cell_type": "code",
   "execution_count": 9,
   "id": "b8fc938b",
   "metadata": {},
   "outputs": [],
   "source": [
    "# Save model\n",
    "keras_model.save_weights(\"model.h5\")\n",
    "model_json = keras_model.to_json()\n",
    "with open(\"model.json\", \"w\") as json_file:\n",
    "    json_file.write(model_json)"
   ]
  },
  {
   "cell_type": "code",
   "execution_count": 19,
   "id": "73aaddb6",
   "metadata": {},
   "outputs": [
    {
     "data": {
      "image/png": "[encoded data removed]",
      "text/plain": [
       "<Figure size 432x288 with 1 Axes>"
      ]
     },
     "metadata": {
      "needs_background": "light"
     },
     "output_type": "display_data"
    }
   ],
   "source": []
  },
  {
   "cell_type": "code",
   "execution_count": null,
   "id": "f1745989",
   "metadata": {},
   "outputs": [],
   "source": []
  }
 ],
 "metadata": {
  "kernelspec": {
   "display_name": "Python 3",
   "language": "python",
   "name": "python3"
  },
  "language_info": {
   "codemirror_mode": {
    "name": "ipython",
    "version": 3
   },
   "file_extension": ".py",
   "mimetype": "text/x-python",
   "name": "python",
   "nbconvert_exporter": "python",
   "pygments_lexer": "ipython3",
   "version": "3.7.10"
  }
 },
 "nbformat": 4,
 "nbformat_minor": 5
}
