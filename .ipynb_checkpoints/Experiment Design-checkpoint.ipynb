{
 "cells": [
  {
   "cell_type": "markdown",
   "id": "c9096f5a",
   "metadata": {},
   "source": [
    "### Prediction task: \n",
    "    TF-binding prediction"
   ]
  },
  {
   "cell_type": "markdown",
   "id": "ab4cb0db",
   "metadata": {},
   "source": [
    "### Model design:\n",
    "    • Convolution with 50 filters of width 11\n",
    "    • ReLU\n",
    "    • Convolution with 50 filters of width 11\n",
    "    • ReLU\n",
    "    • Global Average Pooling\n",
    "    • Fully connected layer with 50 neurons\n",
    "    • ReLU\n",
    "    • Dropout layer with probability 0.5 of leaving out units\n",
    "    • Fully connected layer with 3 neurons\n",
    "    • Sigmoid output\n",
    "    \n",
    "    http://proceedings.mlr.press/v70/shrikumar17a/shrikumar17a-supp.pdf"
   ]
  },
  {
   "cell_type": "markdown",
   "id": "31798bfb",
   "metadata": {},
   "source": [
    "### IML method:\n",
    "    DEEPLift: https://github.com/kundajelab/deeplift"
   ]
  },
  {
   "cell_type": "markdown",
   "id": "3b93ed5e",
   "metadata": {},
   "source": [
    "### Data generation:\n",
    "    DNA sequence of length 200, with background distribution A/C/G/T: 0.3/0.2/0.2/0.3\n",
    "    Selected motifs are uniformly random positioned on the background, while the count of each motifs range from 1 to 3, with average sum equeals to 3\n",
    "\n",
    "    SIMDNA: https://github.com/kundajelab/simdna"
   ]
  },
  {
   "cell_type": "markdown",
   "id": "ae5be482",
   "metadata": {},
   "source": [
    "### Faithfulness verification:"
   ]
  },
  {
   "cell_type": "markdown",
   "id": "bc22bbc3",
   "metadata": {},
   "source": [
    "#### Set-up 1:\n",
    "    Label 1 if GATA exists, else 0\n",
    "    AUC-ROC: 0.9919193333333334"
   ]
  },
  {
   "cell_type": "markdown",
   "id": "b5dccbdc",
   "metadata": {},
   "source": [
    "#### Set-up 2:\n",
    "    Label 1 if either GATA or TAL1 exist, else 0"
   ]
  },
  {
   "cell_type": "markdown",
   "id": "e068929d",
   "metadata": {},
   "source": [
    "#### Set-up 3:\n",
    "    Label 1 if both GATA and TAL1 exist, else 0"
   ]
  },
  {
   "cell_type": "markdown",
   "id": "abe853cf",
   "metadata": {},
   "source": [
    "#### Set-up 4:\n",
    "    Label 1 if both GATA and IRF exist, or GATA doesn't exist and TAL1 exist, else 0"
   ]
  },
  {
   "cell_type": "code",
   "execution_count": null,
   "id": "23cd079d",
   "metadata": {},
   "outputs": [],
   "source": []
  }
 ],
 "metadata": {
  "kernelspec": {
   "display_name": "Python 3 (ipykernel)",
   "language": "python",
   "name": "python3"
  },
  "language_info": {
   "codemirror_mode": {
    "name": "ipython",
    "version": 3
   },
   "file_extension": ".py",
   "mimetype": "text/x-python",
   "name": "python",
   "nbconvert_exporter": "python",
   "pygments_lexer": "ipython3",
   "version": "3.7.11"
  }
 },
 "nbformat": 4,
 "nbformat_minor": 5
}
