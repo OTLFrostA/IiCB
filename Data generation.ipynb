{
 "cells": [
  {
   "cell_type": "code",
   "execution_count": 2,
   "id": "3bhNBgxMcxjZ",
   "metadata": {
    "colab": {
     "base_uri": "https://localhost:8080/"
    },
    "executionInfo": {
     "elapsed": 19164,
     "status": "ok",
     "timestamp": 1635353167677,
     "user": {
      "displayName": "Wenbo Cui",
      "photoUrl": "https://lh3.googleusercontent.com/a/default-user=s64",
      "userId": "17753742665139675012"
     },
     "user_tz": 240
    },
    "id": "3bhNBgxMcxjZ",
    "outputId": "99d55dd6-3025-4f8e-fb10-f93d04dc844d"
   },
   "outputs": [
    {
     "name": "stdout",
     "output_type": "stream",
     "text": [
      "Tensorflow version: 1.15.0\n",
      "Keras version: 2.2.4\n",
      "Numpy version: 1.21.2\n"
     ]
    },
    {
     "name": "stderr",
     "output_type": "stream",
     "text": [
      "Using TensorFlow backend.\n"
     ]
    }
   ],
   "source": [
    "%run common.ipynb"
   ]
  },
  {
   "cell_type": "code",
   "execution_count": 3,
   "id": "83532777",
   "metadata": {
    "executionInfo": {
     "elapsed": 20,
     "status": "ok",
     "timestamp": 1635353167678,
     "user": {
      "displayName": "Wenbo Cui",
      "photoUrl": "https://lh3.googleusercontent.com/a/default-user=s64",
      "userId": "17753742665139675012"
     },
     "user_tz": 240
    },
    "id": "83532777"
   },
   "outputs": [],
   "source": [
    "import simdna\n",
    "from simdna import synthetic as sn\n",
    "import numpy as np\n",
    "from collections import defaultdict"
   ]
  },
  {
   "cell_type": "code",
   "execution_count": 4,
   "id": "220712b3",
   "metadata": {
    "executionInfo": {
     "elapsed": 19,
     "status": "ok",
     "timestamp": 1635353167679,
     "user": {
      "displayName": "Wenbo Cui",
      "photoUrl": "https://lh3.googleusercontent.com/a/default-user=s64",
      "userId": "17753742665139675012"
     },
     "user_tz": 240
    },
    "id": "220712b3"
   },
   "outputs": [],
   "source": [
    "SEQUENCE_LENGTH = 200\n",
    "SAMPLE_COUNT = 10000\n",
    "BACKGROUND_DISTRIBUTION = {'A':0.3, 'C':0.2, 'G':0.2, 'T':0.3}\n",
    "\n",
    "background = sn.ZeroOrderBackgroundGenerator(SEQUENCE_LENGTH, discreteDistribution=BACKGROUND_DISTRIBUTION)\n",
    "\n",
    "# position generator\n",
    "position_generator = sn.UniformPositionGenerator()"
   ]
  },
  {
   "cell_type": "code",
   "execution_count": 5,
   "id": "NufJsB0tnTD2",
   "metadata": {
    "executionInfo": {
     "elapsed": 8,
     "status": "ok",
     "timestamp": 1635353168140,
     "user": {
      "displayName": "Wenbo Cui",
      "photoUrl": "https://lh3.googleusercontent.com/a/default-user=s64",
      "userId": "17753742665139675012"
     },
     "user_tz": 240
    },
    "id": "NufJsB0tnTD2"
   },
   "outputs": [],
   "source": [
    "SIX5_disc1 = 'SIX5_disc1'\n",
    "MYC_disc1 = 'MYC_disc1'\n",
    "SRF_disc1 = 'SRF_disc1'\n",
    "AP1_disc1 = 'AP1_disc1'\n",
    "GATA_disc1 = 'GATA_disc1'\n",
    "TAL1_known1 = 'TAL1_known1'\n",
    "IRF_known1 = 'IRF_known1'\n",
    "\n",
    "all_motifs = [\n",
    "#  SIX5_disc1, MYC_disc1, \n",
    " SRF_disc1, AP1_disc1, GATA_disc1, TAL1_known1, IRF_known1\n",
    "]"
   ]
  },
  {
   "cell_type": "code",
   "execution_count": 6,
   "id": "69351be5",
   "metadata": {
    "colab": {
     "base_uri": "https://localhost:8080/"
    },
    "executionInfo": {
     "elapsed": 22,
     "status": "ok",
     "timestamp": 1633996654393,
     "user": {
      "displayName": "Wenbo Cui",
      "photoUrl": "https://lh3.googleusercontent.com/a/default-user=s64",
      "userId": "17753742665139675012"
     },
     "user_tz": 240
    },
    "id": "69351be5",
    "outputId": "5267d13a-4c50-4962-bcf6-e1fa4b015239"
   },
   "outputs": [],
   "source": [
    "data_bundles = []\n",
    "for i in range(len(all_motifs)):\n",
    "    for j in range(i + 1, len(all_motifs)):\n",
    "        data_bundles.append([[], [all_motifs[i]], [all_motifs[j]], [all_motifs[i], all_motifs[j]]])"
   ]
  },
  {
   "cell_type": "code",
   "execution_count": 7,
   "id": "747dfd65",
   "metadata": {
    "executionInfo": {
     "elapsed": 128,
     "status": "ok",
     "timestamp": 1635353240090,
     "user": {
      "displayName": "Wenbo Cui",
      "photoUrl": "https://lh3.googleusercontent.com/a/default-user=s64",
      "userId": "17753742665139675012"
     },
     "user_tz": 240
    },
    "id": "747dfd65"
   },
   "outputs": [],
   "source": [
    "def get_quantity_generator(count):\n",
    "    if count == 1:\n",
    "        return sn.MinMaxWrapper(sn.PoissonQuantityGenerator(3), theMin=1, theMax=3)\n",
    "    elif count == 2:\n",
    "        return sn.MinMaxWrapper(sn.PoissonQuantityGenerator(1.5), theMin=1, theMax=3)\n",
    "    elif count == 3:\n",
    "        return sn.MinMaxWrapper(sn.PoissonQuantityGenerator(1), theMin=1, theMax=3)\n",
    "    else:\n",
    "        return 0"
   ]
  },
  {
   "cell_type": "code",
   "execution_count": 8,
   "id": "071acad7",
   "metadata": {
    "executionInfo": {
     "elapsed": 589,
     "status": "ok",
     "timestamp": 1635353242501,
     "user": {
      "displayName": "Wenbo Cui",
      "photoUrl": "https://lh3.googleusercontent.com/a/default-user=s64",
      "userId": "17753742665139675012"
     },
     "user_tz": 240
    },
    "id": "071acad7"
   },
   "outputs": [],
   "source": [
    "loaded_motifs = sn.LoadedEncodeMotifs(simdna.ENCODE_MOTIFS_PATH, pseudocountProb=0.001)"
   ]
  },
  {
   "cell_type": "code",
   "execution_count": 9,
   "id": "eUMM9LjQiHZD",
   "metadata": {
    "executionInfo": {
     "elapsed": 168,
     "status": "ok",
     "timestamp": 1635353246087,
     "user": {
      "displayName": "Wenbo Cui",
      "photoUrl": "https://lh3.googleusercontent.com/a/default-user=s64",
      "userId": "17753742665139675012"
     },
     "user_tz": 240
    },
    "id": "eUMM9LjQiHZD"
   },
   "outputs": [],
   "source": [
    "def data_gen(sample_count, data_bundle):\n",
    "    data_out = []\n",
    "    for motifs in data_bundle:\n",
    "        embedders = [\n",
    "            sn.RepeatedEmbedder(\n",
    "                sn.SubstringEmbedder(\n",
    "                    sn.PwmSamplerFromLoadedMotifs(loaded_motifs, motif_name),\n",
    "                    position_generator, \n",
    "                    name=motif_name\n",
    "                    ),\n",
    "                get_quantity_generator(len(motifs))\n",
    "                ) for motif_name in motifs]\n",
    "\n",
    "        embedder = sn.EmbedInABackground(background, embedders)\n",
    "        embedded = list(sn.GenerateSequenceNTimes(embedder, sample_count).generateSequences())\n",
    "        data_out = data_out + embedded\n",
    "    return data_out"
   ]
  },
  {
   "cell_type": "code",
   "execution_count": null,
   "id": "48Y7JnTex9O8",
   "metadata": {
    "colab": {
     "base_uri": "https://localhost:8080/"
    },
    "executionInfo": {
     "elapsed": 340406,
     "status": "ok",
     "timestamp": 1633997116471,
     "user": {
      "displayName": "Wenbo Cui",
      "photoUrl": "https://lh3.googleusercontent.com/a/default-user=s64",
      "userId": "17753742665139675012"
     },
     "user_tz": 240
    },
    "id": "48Y7JnTex9O8",
    "outputId": "7e50965c-fab6-4869-db58-24bc1fc2266d"
   },
   "outputs": [
    {
     "name": "stdout",
     "output_type": "stream",
     "text": [
      "warning: made 10 tries at trying to sample from distribution with min/max limits\n",
      "warning: made 10 tries at trying to sample from distribution with min/max limits\n",
      "warning: made 10 tries at trying to sample from distribution with min/max limits\n",
      "warning: made 10 tries at trying to sample from distribution with min/max limits\n",
      "warning: made 10 tries at trying to sample from distribution with min/max limits\n",
      "warning: made 10 tries at trying to sample from distribution with min/max limits\n",
      "warning: made 10 tries at trying to sample from distribution with min/max limits\n",
      "Warning: made 10 attemps at trying to embed GATA_disc1-TCAGATTAGG in region of length 200 with 50.0 occupied sites\n",
      "warning: made 10 tries at trying to sample from distribution with min/max limits\n",
      "warning: made 10 tries at trying to sample from distribution with min/max limits\n",
      "Warning: made 10 attemps at trying to embed TAL1_known1-CAAAACAGATGGTTGA in region of length 200 with 62.0 occupied sites\n",
      "Warning: made 10 attemps at trying to embed TAL1_known1-CGGACCAGGTGTTCGG in region of length 200 with 62.0 occupied sites\n",
      "Warning: made 10 attemps at trying to embed TAL1_known1-GTGGACAGATGGTATC in region of length 200 with 52.0 occupied sites\n",
      "Warning: made 10 attemps at trying to embed TAL1_known1-TAGACCAGATATCTCA in region of length 200 with 52.0 occupied sites\n",
      "Warning: made 10 attemps at trying to embed TAL1_known1-ATGTACAGATGTCACA in region of length 200 with 62.0 occupied sites\n",
      "Warning: made 10 attemps at trying to embed TAL1_known1-AACACCAGATGGTTTC in region of length 200 with 46.0 occupied sites\n",
      "Warning: made 10 attemps at trying to embed TAL1_known1-CAGATCAGATGGTGAC in region of length 200 with 42.0 occupied sites\n",
      "Warning: made 10 attemps at trying to embed TAL1_known1-AGGAACAGATGTTCCC in region of length 200 with 62.0 occupied sites\n",
      "Warning: made 10 attemps at trying to embed TAL1_known1-ACTAACAGGTGTTACT in region of length 200 with 52.0 occupied sites\n",
      "Warning: made 10 attemps at trying to embed TAL1_known1-CTCAACAGATGTTTCG in region of length 200 with 62.0 occupied sites\n",
      "Warning: made 10 attemps at trying to embed TAL1_known1-TTCAACAGATGGTTAG in region of length 200 with 62.0 occupied sites\n",
      "Warning: made 10 attemps at trying to embed TAL1_known1-CAGCACAGATGTTCGA in region of length 200 with 62.0 occupied sites\n",
      "Warning: made 10 attemps at trying to embed TAL1_known1-GGTACCAGATGTCAGC in region of length 200 with 46.0 occupied sites\n",
      "Warning: made 10 attemps at trying to embed TAL1_known1-CAGTCCAGATGTTCCT in region of length 200 with 62.0 occupied sites\n",
      "Warning: made 10 attemps at trying to embed TAL1_known1-ATTAACAGATGGTCCT in region of length 200 with 62.0 occupied sites\n",
      "Warning: made 10 attemps at trying to embed TAL1_known1-GGCCCCAGGTGGTGGG in region of length 200 with 52.0 occupied sites\n",
      "warning: made 10 tries at trying to sample from distribution with min/max limits\n",
      "Warning: made 10 attemps at trying to embed IRF_known1-GAAAAGTGAAACT in region of length 200 with 46.0 occupied sites\n",
      "Warning: made 10 attemps at trying to embed IRF_known1-GAAAAGTGAAAGT in region of length 200 with 46.0 occupied sites\n",
      "Warning: made 10 attemps at trying to embed IRF_known1-GAAAAGCGAAAGT in region of length 200 with 46.0 occupied sites\n",
      "Warning: made 10 attemps at trying to embed IRF_known1-TAAAAGCGAAACC in region of length 200 with 46.0 occupied sites\n",
      "Warning: made 10 attemps at trying to embed IRF_known1-CAAAAGTGAAACT in region of length 200 with 46.0 occupied sites\n",
      "Warning: made 10 attemps at trying to embed IRF_known1-GAAAACTGAAAGT in region of length 200 with 33.0 occupied sites\n",
      "Warning: made 10 attemps at trying to embed IRF_known1-GAAAAGTGAAACC in region of length 200 with 46.0 occupied sites\n",
      "warning: made 10 tries at trying to sample from distribution with min/max limits\n",
      "warning: made 10 tries at trying to sample from distribution with min/max limits\n",
      "warning: made 10 tries at trying to sample from distribution with min/max limits\n",
      "Warning: made 10 attemps at trying to embed TAL1_known1-ATTAACAGATGGTCGA in region of length 200 with 62.0 occupied sites\n",
      "Warning: made 10 attemps at trying to embed TAL1_known1-TCGTACAGATGGTCAC in region of length 200 with 62.0 occupied sites\n",
      "Warning: made 10 attemps at trying to embed TAL1_known1-TGCAACAGATGGTGTT in region of length 200 with 62.0 occupied sites\n",
      "Warning: made 10 attemps at trying to embed TAL1_known1-GGCATCAGGTGTTTTA in region of length 200 with 62.0 occupied sites\n",
      "Warning: made 10 attemps at trying to embed TAL1_known1-TTTAACAGATGTTCAG in region of length 200 with 52.0 occupied sites\n",
      "Warning: made 10 attemps at trying to embed TAL1_known1-GGTACCAGATGGTGCC in region of length 200 with 46.0 occupied sites\n",
      "Warning: made 10 attemps at trying to embed TAL1_known1-ATTTACAGATGGTAGG in region of length 200 with 46.0 occupied sites\n",
      "Warning: made 10 attemps at trying to embed TAL1_known1-AGGAACAGATGTTTGG in region of length 200 with 62.0 occupied sites\n",
      "Warning: made 10 attemps at trying to embed TAL1_known1-GCGAACAGATGGTCCG in region of length 200 with 62.0 occupied sites\n",
      "Warning: made 10 attemps at trying to embed TAL1_known1-CAATCCAGATGGTCCG in region of length 200 with 62.0 occupied sites\n",
      "warning: made 10 tries at trying to sample from distribution with min/max limits\n",
      "warning: made 10 tries at trying to sample from distribution with min/max limits\n",
      "Warning: made 10 attemps at trying to embed IRF_known1-GAAAACTGAAAGT in region of length 200 with 56.0 occupied sites\n",
      "Warning: made 10 attemps at trying to embed IRF_known1-GAAAATCGAAACC in region of length 200 with 46.0 occupied sites\n",
      "Warning: made 10 attemps at trying to embed IRF_known1-CAAAAGTGAAACC in region of length 200 with 56.0 occupied sites\n",
      "Warning: made 10 attemps at trying to embed IRF_known1-GAAAAGCGAAAGT in region of length 200 with 43.0 occupied sites\n",
      "warning: made 10 tries at trying to sample from distribution with min/max limits\n",
      "Warning: made 10 attemps at trying to embed TAL1_known1-CTGATCAGATGGTCGG in region of length 200 with 52.0 occupied sites\n",
      "Warning: made 10 attemps at trying to embed TAL1_known1-TGGGACAGGTGGTCCT in region of length 200 with 46.0 occupied sites\n",
      "Warning: made 10 attemps at trying to embed TAL1_known1-CAAAACAGGTGTTCAT in region of length 200 with 62.0 occupied sites\n",
      "Warning: made 10 attemps at trying to embed TAL1_known1-CCTGACAGATGGTCCG in region of length 200 with 42.0 occupied sites\n",
      "Warning: made 10 attemps at trying to embed TAL1_known1-CGGAACAGATGGTCCC in region of length 200 with 62.0 occupied sites\n",
      "Warning: made 10 attemps at trying to embed TAL1_known1-CCCAACAGGTGGTCTT in region of length 200 with 52.0 occupied sites\n",
      "Warning: made 10 attemps at trying to embed TAL1_known1-CGTGACAGATGGTTTT in region of length 200 with 42.0 occupied sites\n",
      "Warning: made 10 attemps at trying to embed TAL1_known1-CCGACCAGATGGTTAG in region of length 200 with 62.0 occupied sites\n",
      "Warning: made 10 attemps at trying to embed TAL1_known1-GGAGACAGATGCTCGC in region of length 200 with 46.0 occupied sites\n",
      "warning: made 10 tries at trying to sample from distribution with min/max limits\n",
      "Warning: made 10 attemps at trying to embed IRF_known1-CAAAACTGAAAAT in region of length 200 with 43.0 occupied sites\n",
      "Warning: made 10 attemps at trying to embed IRF_known1-CAAAAGTGAAACC in region of length 200 with 33.0 occupied sites\n",
      "Warning: made 10 attemps at trying to embed IRF_known1-CAAAAGTGAAACC in region of length 200 with 43.0 occupied sites\n",
      "warning: made 10 tries at trying to sample from distribution with min/max limits\n",
      "warning: made 10 tries at trying to sample from distribution with min/max limits\n",
      "Warning: made 10 attemps at trying to embed IRF_known1-CAAAAGTGAAACC in region of length 200 with 74.0 occupied sites\n",
      "Warning: made 10 attemps at trying to embed IRF_known1-CAAAACCGAAACG in region of length 200 with 61.0 occupied sites\n",
      "Warning: made 10 attemps at trying to embed IRF_known1-GAAAACTGACACC in region of length 200 with 58.0 occupied sites\n",
      "Warning: made 10 attemps at trying to embed IRF_known1-CAAAATCGAAACC in region of length 200 with 45.0 occupied sites\n",
      "Warning: made 10 attemps at trying to embed IRF_known1-GAAAAGCGAAACC in region of length 200 with 74.0 occupied sites\n",
      "Warning: made 10 attemps at trying to embed IRF_known1-CAAAAGTGAAACA in region of length 200 with 48.0 occupied sites\n",
      "Warning: made 10 attemps at trying to embed IRF_known1-GAAAAGTGAAAAC in region of length 200 with 61.0 occupied sites\n",
      "Warning: made 10 attemps at trying to embed IRF_known1-CAAAAGCGAAAAA in region of length 200 with 58.0 occupied sites\n",
      "Warning: made 10 attemps at trying to embed IRF_known1-CAAAAGCGAAACT in region of length 200 with 61.0 occupied sites\n",
      "Warning: made 10 attemps at trying to embed IRF_known1-GAAAAACGAAAGT in region of length 200 with 61.0 occupied sites\n",
      "Warning: made 10 attemps at trying to embed IRF_known1-CAAAAGTGAAACC in region of length 200 with 74.0 occupied sites\n",
      "Warning: made 10 attemps at trying to embed IRF_known1-GAAAACTGAAAGC in region of length 200 with 48.0 occupied sites\n",
      "Warning: made 10 attemps at trying to embed IRF_known1-CAAAAGTGAAACC in region of length 200 with 61.0 occupied sites\n"
     ]
    }
   ],
   "source": [
    "for i in range(len(all_motifs)):\n",
    "    for j in range(i + 1, len(all_motifs)):\n",
    "        data_bundle = [[], [all_motifs[i]], [all_motifs[j]], [all_motifs[i], all_motifs[j]]]\n",
    "        training_data = data_gen(10000, data_bundle)\n",
    "        with open(mount_path + 'data/training_' + str(i) + '_' + str(j) + '.npy', 'wb') as f:\n",
    "            np.save(f, training_data)\n",
    "        testing_data = data_gen(200, data_bundle)\n",
    "        with open(mount_path + 'data/testing_' + str(i) + '_' + str(j) + '.npy', 'wb') as f:\n",
    "            np.save(f, testing_data)\n"
   ]
  }
 ],
 "metadata": {
  "colab": {
   "collapsed_sections": [],
   "name": "Data generation.ipynb",
   "provenance": []
  },
  "kernelspec": {
   "display_name": "Python 3",
   "language": "python",
   "name": "python3"
  },
  "language_info": {
   "codemirror_mode": {
    "name": "ipython",
    "version": 3
   },
   "file_extension": ".py",
   "mimetype": "text/x-python",
   "name": "python",
   "nbconvert_exporter": "python",
   "pygments_lexer": "ipython3",
   "version": "3.7.11"
  }
 },
 "nbformat": 4,
 "nbformat_minor": 5
}
