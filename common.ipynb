{
 "cells": [
  {
   "cell_type": "code",
   "execution_count": null,
   "id": "059135c0",
   "metadata": {},
   "outputs": [],
   "source": [
    "import warnings\n",
    "warnings.filterwarnings('ignore')"
   ]
  },
  {
   "cell_type": "code",
   "execution_count": null,
   "id": "3e5f6400",
   "metadata": {},
   "outputs": [],
   "source": [
    "from __future__ import print_function\n",
    "import tensorflow\n",
    "print(\"Tensorflow version:\", tensorflow.__version__)\n",
    "import keras\n",
    "print(\"Keras version:\", keras.__version__)\n",
    "import numpy as np\n",
    "print(\"Numpy version:\", np.__version__)\n",
    "from simdna.simdnautil import util"
   ]
  },
  {
   "cell_type": "code",
   "execution_count": null,
   "id": "12bae67b",
   "metadata": {},
   "outputs": [],
   "source": [
    "#this is set up for 1d convolutions where examples\n",
    "#have dimensions (len, num_channels)\n",
    "#the channel axis is the axis for one-hot encoding.\n",
    "def one_hot_encode_along_channel_axis(sequence):\n",
    "    to_return = np.zeros((len(sequence),4), dtype=np.int8)\n",
    "    seq_to_one_hot_fill_in_array(zeros_array=to_return,\n",
    "                                 sequence=sequence, one_hot_axis=1)\n",
    "    return to_return\n",
    "\n",
    "def seq_to_one_hot_fill_in_array(zeros_array, sequence, one_hot_axis):\n",
    "    assert one_hot_axis==0 or one_hot_axis==1\n",
    "    if (one_hot_axis==0):\n",
    "        assert zeros_array.shape[1] == len(sequence)\n",
    "    elif (one_hot_axis==1): \n",
    "        assert zeros_array.shape[0] == len(sequence)\n",
    "    #will mutate zeros_array\n",
    "    for (i,char) in enumerate(sequence):\n",
    "        if (char==\"A\" or char==\"a\"):\n",
    "            char_idx = 0\n",
    "        elif (char==\"C\" or char==\"c\"):\n",
    "            char_idx = 1\n",
    "        elif (char==\"G\" or char==\"g\"):\n",
    "            char_idx = 2\n",
    "        elif (char==\"T\" or char==\"t\"):\n",
    "            char_idx = 3\n",
    "        elif (char==\"N\" or char==\"n\"):\n",
    "            continue #leave that pos as all 0's\n",
    "        else:\n",
    "            raise RuntimeError(\"Unsupported character: \"+str(char))\n",
    "        if (one_hot_axis==0):\n",
    "            zeros_array[char_idx,i] = 1\n",
    "        elif (one_hot_axis==1):\n",
    "            zeros_array[i,char_idx] = 1"
   ]
  },
  {
   "cell_type": "code",
   "execution_count": null,
   "id": "f849de55",
   "metadata": {},
   "outputs": [],
   "source": [
    "def contain_gata(embeddings):\n",
    "    for embedding in embeddings:\n",
    "        return 'GATA_disc1' in embedding.what.getDescription()\n",
    "    return False"
   ]
  },
  {
   "cell_type": "code",
   "execution_count": null,
   "id": "d21d50be",
   "metadata": {},
   "outputs": [],
   "source": [
    "def contain_tal1(embeddings):\n",
    "    for embedding in embeddings:\n",
    "        return 'TAL1_known1' in embedding.what.getDescription()\n",
    "    return False"
   ]
  },
  {
   "cell_type": "code",
   "execution_count": null,
   "id": "fd81d37c",
   "metadata": {},
   "outputs": [],
   "source": [
    "def load_training_data():\n",
    "    import numpy as np\n",
    "    with open('training.npy', 'rb') as f:\n",
    "        data_out = np.load(f, allow_pickle='True')\n",
    "\n",
    "    embeddings = [data.embeddings for data in data_out]\n",
    "    sequences = [data.seq for data in data_out]\n",
    "    labels = np.array([[1, 1, 1] if contain_gata(embedding) else [0, 0, 0] for embedding in embeddings])\n",
    "    onehot = np.array([one_hot_encode_along_channel_axis(seq) for seq in sequences])\n",
    "    \n",
    "    data = util.enum(embeddings=embeddings, sequences=sequences, labels=labels, onehot=onehot)\n",
    "\n",
    "    return data"
   ]
  },
  {
   "cell_type": "code",
   "execution_count": null,
   "id": "e92bd344",
   "metadata": {},
   "outputs": [],
   "source": [
    "def load_testing_data():\n",
    "    import numpy as np\n",
    "    with open('testing.npy', 'rb') as f:\n",
    "        data_out = np.load(f, allow_pickle='True')\n",
    "\n",
    "    embeddings = [data.embeddings for data in data_out]\n",
    "    sequences = [data.seq for data in data_out]\n",
    "    labels = np.array([[1, 1, 1] if contain_gata(embedding) else [0, 0, 0] for embedding in embeddings])\n",
    "    onehot = np.array([one_hot_encode_along_channel_axis(seq) for seq in sequences])\n",
    "    \n",
    "    data = util.enum(embeddings=embeddings, sequences=sequences, labels=labels, onehot=onehot)\n",
    "\n",
    "    return data"
   ]
  },
  {
   "cell_type": "code",
   "execution_count": null,
   "id": "dbe583d4",
   "metadata": {},
   "outputs": [],
   "source": [
    "def load_trained_model():\n",
    "    import deeplift\n",
    "    from keras.models import model_from_json\n",
    "\n",
    "    keras_model_weights = \"model.h5\"\n",
    "    keras_model_json = \"model.json\"\n",
    "\n",
    "    keras_model = model_from_json(open(keras_model_json).read())\n",
    "    keras_model.load_weights(keras_model_weights)\n",
    "    \n",
    "    return keras_model, keras_model_weights, keras_model_json"
   ]
  }
 ],
 "metadata": {
  "kernelspec": {
   "display_name": "Python 3",
   "language": "python",
   "name": "python3"
  },
  "language_info": {
   "codemirror_mode": {
    "name": "ipython",
    "version": 3
   },
   "file_extension": ".py",
   "mimetype": "text/x-python",
   "name": "python",
   "nbconvert_exporter": "python",
   "pygments_lexer": "ipython3",
   "version": "3.7.10"
  }
 },
 "nbformat": 4,
 "nbformat_minor": 5
}
