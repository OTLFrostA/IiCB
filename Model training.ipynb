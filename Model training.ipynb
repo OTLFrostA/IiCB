{
 "cells": [
  {
   "cell_type": "code",
   "execution_count": 29,
   "id": "cbba3c6e",
   "metadata": {},
   "outputs": [
    {
     "name": "stdout",
     "output_type": "stream",
     "text": [
      "Tensorflow version: 1.14.0\n",
      "Keras version: 2.2.4\n",
      "Numpy version: 1.20.3\n"
     ]
    }
   ],
   "source": [
    "%run common.ipynb"
   ]
  },
  {
   "cell_type": "code",
   "execution_count": 30,
   "id": "824d3a9d",
   "metadata": {},
   "outputs": [],
   "source": [
    "data = load_training_data()\n",
    "test_data = load_testing_data()"
   ]
  },
  {
   "cell_type": "code",
   "execution_count": 31,
   "id": "8aba2e25",
   "metadata": {},
   "outputs": [],
   "source": [
    "keras_model, keras_model_weights, keras_model_json = load_trained_model()"
   ]
  },
  {
   "cell_type": "code",
   "execution_count": 32,
   "id": "b6eb603c",
   "metadata": {},
   "outputs": [],
   "source": [
    "# Recompile model\n",
    "opt = keras.optimizers.Adam(lr=0.0001)\n",
    "keras_model.compile(optimizer=opt, loss='binary_crossentropy')"
   ]
  },
  {
   "cell_type": "code",
   "execution_count": 33,
   "id": "076dc59c",
   "metadata": {},
   "outputs": [
    {
     "name": "stdout",
     "output_type": "stream",
     "text": [
      "Epoch 1/20\n",
      "40000/40000 [==============================] - 9s 218us/step - loss: 0.8068\n",
      "Epoch 2/20\n",
      "40000/40000 [==============================] - 7s 177us/step - loss: 0.3130\n",
      "Epoch 3/20\n",
      "40000/40000 [==============================] - 9s 220us/step - loss: 0.2575\n",
      "Epoch 4/20\n",
      "40000/40000 [==============================] - 8s 212us/step - loss: 0.2312\n",
      "Epoch 5/20\n",
      "40000/40000 [==============================] - 9s 217us/step - loss: 0.2167\n",
      "Epoch 6/20\n",
      "40000/40000 [==============================] - 8s 211us/step - loss: 0.2029\n",
      "Epoch 7/20\n",
      "40000/40000 [==============================] - 9s 221us/step - loss: 0.1903\n",
      "Epoch 8/20\n",
      "40000/40000 [==============================] - 9s 222us/step - loss: 0.1839\n",
      "Epoch 9/20\n",
      "40000/40000 [==============================] - 8s 207us/step - loss: 0.1746\n",
      "Epoch 10/20\n",
      "40000/40000 [==============================] - 9s 214us/step - loss: 0.1736\n",
      "Epoch 11/20\n",
      "40000/40000 [==============================] - 9s 215us/step - loss: 0.1677\n",
      "Epoch 12/20\n",
      "40000/40000 [==============================] - 9s 232us/step - loss: 0.1641\n",
      "Epoch 13/20\n",
      "40000/40000 [==============================] - 9s 215us/step - loss: 0.1617\n",
      "Epoch 14/20\n",
      "40000/40000 [==============================] - 9s 218us/step - loss: 0.1584\n",
      "Epoch 15/20\n",
      "40000/40000 [==============================] - 8s 198us/step - loss: 0.1574\n",
      "Epoch 16/20\n",
      "40000/40000 [==============================] - 9s 217us/step - loss: 0.1547\n",
      "Epoch 17/20\n",
      "40000/40000 [==============================] - 8s 209us/step - loss: 0.1540\n",
      "Epoch 18/20\n",
      "40000/40000 [==============================] - 9s 215us/step - loss: 0.1513\n",
      "Epoch 19/20\n",
      "40000/40000 [==============================] - 9s 224us/step - loss: 0.1498\n",
      "Epoch 20/20\n",
      "40000/40000 [==============================] - 8s 210us/step - loss: 0.1487\n"
     ]
    },
    {
     "data": {
      "text/plain": [
       "<keras.callbacks.History at 0x7f01eb95e850>"
      ]
     },
     "execution_count": 33,
     "metadata": {},
     "output_type": "execute_result"
    }
   ],
   "source": [
    "# Fit model\n",
    "keras_model.fit(x=data.onehot, y=data.labels, epochs=20, shuffle=True)"
   ]
  },
  {
   "cell_type": "code",
   "execution_count": 25,
   "id": "f394def9",
   "metadata": {},
   "outputs": [
    {
     "name": "stdout",
     "output_type": "stream",
     "text": [
      "0.9929343333333334\n"
     ]
    },
    {
     "data": {
      "image/png": "[encoded data removed]",
      "text/plain": [
       "<Figure size 432x288 with 1 Axes>"
      ]
     },
     "metadata": {
      "needs_background": "light"
     },
     "output_type": "display_data"
    }
   ],
   "source": [
    "output = np.average(keras_model.predict(x=test_data.onehot), axis=1)\n",
    "\n",
    "from sklearn.metrics import roc_curve\n",
    "fpr_keras, tpr_keras, thresholds_keras = roc_curve(test_data.labels[:, 0], output)\n",
    "\n",
    "from sklearn.metrics import auc\n",
    "auc_keras = auc(fpr_keras, tpr_keras)\n",
    "print(auc_keras)\n",
    "\n",
    "import matplotlib.pyplot as plt\n",
    "plt.plot(range(len(output)), output, 'o');"
   ]
  },
  {
   "cell_type": "code",
   "execution_count": 27,
   "id": "b8fc938b",
   "metadata": {},
   "outputs": [],
   "source": [
    "# Save model\n",
    "keras_model.save_weights(\"model.h5\")\n",
    "model_json = keras_model.to_json()\n",
    "with open(\"model.json\", \"w\") as json_file:\n",
    "    json_file.write(model_json)"
   ]
  },
  {
   "cell_type": "code",
   "execution_count": 28,
   "id": "03a9f5e5",
   "metadata": {},
   "outputs": [
    {
     "name": "stdout",
     "output_type": "stream",
     "text": [
      "[2.9514233e-05 2.4239223e-06 0.0000000e+00 0.0000000e+00 0.0000000e+00\n",
      " 0.0000000e+00 2.0563602e-06 0.0000000e+00 6.6359839e-06 1.0281801e-05]\n"
     ]
    }
   ],
   "source": [
    "print(output[:10])"
   ]
  },
  {
   "cell_type": "code",
   "execution_count": null,
   "id": "5c4c0774",
   "metadata": {},
   "outputs": [],
   "source": []
  }
 ],
 "metadata": {
  "kernelspec": {
   "display_name": "Python 3",
   "language": "python",
   "name": "python3"
  },
  "language_info": {
   "codemirror_mode": {
    "name": "ipython",
    "version": 3
   },
   "file_extension": ".py",
   "mimetype": "text/x-python",
   "name": "python",
   "nbconvert_exporter": "python",
   "pygments_lexer": "ipython3",
   "version": "3.7.10"
  }
 },
 "nbformat": 4,
 "nbformat_minor": 5
}
