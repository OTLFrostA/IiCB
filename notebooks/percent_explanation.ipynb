{
 "cells": [
  {
   "cell_type": "code",
   "execution_count": 1,
   "id": "eOBa3cvuxZ5q",
   "metadata": {
    "colab": {
     "base_uri": "https://localhost:8080/"
    },
    "executionInfo": {
     "elapsed": 23316,
     "status": "ok",
     "timestamp": 1635989119494,
     "user": {
      "displayName": "Wenbo Cui",
      "photoUrl": "https://lh3.googleusercontent.com/a/default-user=s64",
      "userId": "17753742665139675012"
     },
     "user_tz": 240
    },
    "id": "eOBa3cvuxZ5q",
    "outputId": "ddfa93ed-b579-4df6-ca64-a416cc1c9418"
   },
   "outputs": [
    {
     "name": "stdout",
     "output_type": "stream",
     "text": [
      "Tensorflow version: 1.14.0\n",
      "Keras version: 2.2.4\n",
      "Numpy version: 1.16.5\n"
     ]
    },
    {
     "name": "stderr",
     "output_type": "stream",
     "text": [
      "Using TensorFlow backend.\n"
     ]
    }
   ],
   "source": [
    "%run common.ipynb"
   ]
  },
  {
   "cell_type": "code",
   "execution_count": 2,
   "id": "58fb7870",
   "metadata": {},
   "outputs": [],
   "source": [
    "from deeplift.layers import NonlinearMxtsMode\n",
    "import deeplift.conversion.kerasapi_conversion as kc\n",
    "from collections import OrderedDict\n",
    "import deeplift\n",
    "from deeplift.util import compile_func\n",
    "import sys, os"
   ]
  },
  {
   "cell_type": "code",
   "execution_count": 3,
   "id": "8b3a9a22",
   "metadata": {},
   "outputs": [],
   "source": [
    "def percent(background, motif_scores):\n",
    "    p = 0\n",
    "    for motif_score in motif_scores:\n",
    "        idx, scores = motif_score\n",
    "        mean, std = background[idx]\n",
    "        score = np.mean(scores)\n",
    "        \n",
    "        if score > mean - std and score < mean + std:\n",
    "            p += 1\n",
    "    return p/len(motif_scores)"
   ]
  },
  {
   "cell_type": "code",
   "execution_count": 4,
   "id": "a3ff7856",
   "metadata": {},
   "outputs": [],
   "source": [
    "def run_explanations(all_runs):\n",
    "    output = []\n",
    "\n",
    "    for keras_model_weights, keras_model_json, testing_data_path, method in all_runs:\n",
    "        data = load_data(method, testing_data_path)\n",
    "\n",
    "        model = kc.convert_model_from_saved_files(\n",
    "                    h5_file=keras_model_weights,\n",
    "                    json_file=keras_model_json,\n",
    "                    nonlinear_mxts_mode=NonlinearMxtsMode.DeepLIFT_GenomicsDefault)\n",
    "        score_func = model.get_target_contribs_func(find_scores_layer_idx=0, target_layer_idx=-2)\n",
    "\n",
    "        background = OrderedDict([('A', 0.3), ('C', 0.2), ('G', 0.2), ('T', 0.3)])\n",
    "\n",
    "        all_scores = np.zeros((3, data.onehot.shape[0], data.onehot.shape[1]))\n",
    "        for task_idx in [0,1,2]:\n",
    "            scores = np.array(score_func(\n",
    "                        task_idx=task_idx,\n",
    "                        input_data_list=[data.onehot],\n",
    "                        input_references_list=[\n",
    "                         np.array([background['A'],\n",
    "                                   background['C'],\n",
    "                                   background['G'],\n",
    "                                   background['T']])[None,None,:]],\n",
    "                        batch_size=200,\n",
    "                        progress_update=None))\n",
    "            scores = np.sum(scores, axis=2)\n",
    "            all_scores[task_idx] = scores\n",
    "        all_scores = np.average(all_scores, axis=0)\n",
    "\n",
    "        mask = np.zeros(all_scores.shape)\n",
    "        background = []\n",
    "        motif_scores = {motif : [] for motif in all_motifs}\n",
    "\n",
    "        for idx in range(all_scores.shape[0]):\n",
    "            for embedding in data.embeddings[idx]:\n",
    "                motif_scores[embedding.what.getDescription()].append(\n",
    "                    (idx, all_scores[idx, embedding.startPos:embedding.startPos+len(embedding.what)])\n",
    "                )\n",
    "                mask[idx, embedding.startPos:embedding.startPos+len(embedding.what)] = 1\n",
    "\n",
    "            background.append(\n",
    "                (np.mean(all_scores[idx, np.where(mask[idx] == 0)]), np.std(all_scores[idx, np.where(mask[idx] == 0)]))\n",
    "                )\n",
    "\n",
    "        output.append('Background mean: {:.3}, Background std: {:.3}'.format(np.mean(background), np.std(background)))\n",
    "\n",
    "        for motif in all_motifs:\n",
    "            if len(motif_scores[motif]) == 0:\n",
    "                continue\n",
    "            output.append('Motif: ' + motif)\n",
    "            output.append('Percent 1 std: {:.2%}'.format(percent(background, motif_scores[motif])))\n",
    "    return output"
   ]
  },
  {
   "cell_type": "markdown",
   "id": "adf2977e",
   "metadata": {},
   "source": [
    "## Percent of motifs fall in background ('and' model)"
   ]
  },
  {
   "cell_type": "code",
   "execution_count": 11,
   "id": "2ZSTPsh-5eSU",
   "metadata": {
    "colab": {
     "base_uri": "https://localhost:8080/"
    },
    "executionInfo": {
     "elapsed": 114181,
     "status": "ok",
     "timestamp": 1635991544010,
     "user": {
      "displayName": "Wenbo Cui",
      "photoUrl": "https://lh3.googleusercontent.com/a/default-user=s64",
      "userId": "17753742665139675012"
     },
     "user_tz": 240
    },
    "id": "2ZSTPsh-5eSU",
    "outputId": "5482e66c-8755-4220-a047-5cfed4477537",
    "scrolled": true
   },
   "outputs": [
    {
     "name": "stdout",
     "output_type": "stream",
     "text": [
      "nonlinear_mxts_mode is set to: DeepLIFT_GenomicsDefault\n",
      "For layer 1 the preceding linear layer is 0 of type Conv1D;\n",
      "In accordance with nonlinear_mxts_mode=DeepLIFT_GenomicsDefault we are setting the NonlinearMxtsMode to Rescale\n",
      "For layer 3 the preceding linear layer is 2 of type Conv1D;\n",
      "In accordance with nonlinear_mxts_mode=DeepLIFT_GenomicsDefault we are setting the NonlinearMxtsMode to Rescale\n",
      "For layer 7 the preceding linear layer is 6 of type Dense;\n",
      "In accordance with nonlinear_mxts_modeDeepLIFT_GenomicsDefault we are setting the NonlinearMxtsMode to RevealCancel\n",
      "For layer 10 the preceding linear layer is 9 of type Dense;\n",
      "In accordance with nonlinear_mxts_modeDeepLIFT_GenomicsDefault we are setting the NonlinearMxtsMode to RevealCancel\n",
      "nonlinear_mxts_mode is set to: DeepLIFT_GenomicsDefault\n",
      "For layer 1 the preceding linear layer is 0 of type Conv1D;\n",
      "In accordance with nonlinear_mxts_mode=DeepLIFT_GenomicsDefault we are setting the NonlinearMxtsMode to Rescale\n",
      "For layer 3 the preceding linear layer is 2 of type Conv1D;\n",
      "In accordance with nonlinear_mxts_mode=DeepLIFT_GenomicsDefault we are setting the NonlinearMxtsMode to Rescale\n",
      "For layer 7 the preceding linear layer is 6 of type Dense;\n",
      "In accordance with nonlinear_mxts_modeDeepLIFT_GenomicsDefault we are setting the NonlinearMxtsMode to RevealCancel\n",
      "For layer 10 the preceding linear layer is 9 of type Dense;\n",
      "In accordance with nonlinear_mxts_modeDeepLIFT_GenomicsDefault we are setting the NonlinearMxtsMode to RevealCancel\n",
      "nonlinear_mxts_mode is set to: DeepLIFT_GenomicsDefault\n",
      "For layer 1 the preceding linear layer is 0 of type Conv1D;\n",
      "In accordance with nonlinear_mxts_mode=DeepLIFT_GenomicsDefault we are setting the NonlinearMxtsMode to Rescale\n",
      "For layer 3 the preceding linear layer is 2 of type Conv1D;\n",
      "In accordance with nonlinear_mxts_mode=DeepLIFT_GenomicsDefault we are setting the NonlinearMxtsMode to Rescale\n",
      "For layer 7 the preceding linear layer is 6 of type Dense;\n",
      "In accordance with nonlinear_mxts_modeDeepLIFT_GenomicsDefault we are setting the NonlinearMxtsMode to RevealCancel\n",
      "For layer 10 the preceding linear layer is 9 of type Dense;\n",
      "In accordance with nonlinear_mxts_modeDeepLIFT_GenomicsDefault we are setting the NonlinearMxtsMode to RevealCancel\n",
      "nonlinear_mxts_mode is set to: DeepLIFT_GenomicsDefault\n",
      "For layer 1 the preceding linear layer is 0 of type Conv1D;\n",
      "In accordance with nonlinear_mxts_mode=DeepLIFT_GenomicsDefault we are setting the NonlinearMxtsMode to Rescale\n",
      "For layer 3 the preceding linear layer is 2 of type Conv1D;\n",
      "In accordance with nonlinear_mxts_mode=DeepLIFT_GenomicsDefault we are setting the NonlinearMxtsMode to Rescale\n",
      "For layer 7 the preceding linear layer is 6 of type Dense;\n",
      "In accordance with nonlinear_mxts_modeDeepLIFT_GenomicsDefault we are setting the NonlinearMxtsMode to RevealCancel\n",
      "For layer 10 the preceding linear layer is 9 of type Dense;\n",
      "In accordance with nonlinear_mxts_modeDeepLIFT_GenomicsDefault we are setting the NonlinearMxtsMode to RevealCancel\n",
      "nonlinear_mxts_mode is set to: DeepLIFT_GenomicsDefault\n",
      "For layer 1 the preceding linear layer is 0 of type Conv1D;\n",
      "In accordance with nonlinear_mxts_mode=DeepLIFT_GenomicsDefault we are setting the NonlinearMxtsMode to Rescale\n",
      "For layer 3 the preceding linear layer is 2 of type Conv1D;\n",
      "In accordance with nonlinear_mxts_mode=DeepLIFT_GenomicsDefault we are setting the NonlinearMxtsMode to Rescale\n",
      "For layer 7 the preceding linear layer is 6 of type Dense;\n",
      "In accordance with nonlinear_mxts_modeDeepLIFT_GenomicsDefault we are setting the NonlinearMxtsMode to RevealCancel\n",
      "For layer 10 the preceding linear layer is 9 of type Dense;\n",
      "In accordance with nonlinear_mxts_modeDeepLIFT_GenomicsDefault we are setting the NonlinearMxtsMode to RevealCancel\n",
      "nonlinear_mxts_mode is set to: DeepLIFT_GenomicsDefault\n",
      "For layer 1 the preceding linear layer is 0 of type Conv1D;\n",
      "In accordance with nonlinear_mxts_mode=DeepLIFT_GenomicsDefault we are setting the NonlinearMxtsMode to Rescale\n",
      "For layer 3 the preceding linear layer is 2 of type Conv1D;\n",
      "In accordance with nonlinear_mxts_mode=DeepLIFT_GenomicsDefault we are setting the NonlinearMxtsMode to Rescale\n",
      "For layer 7 the preceding linear layer is 6 of type Dense;\n",
      "In accordance with nonlinear_mxts_modeDeepLIFT_GenomicsDefault we are setting the NonlinearMxtsMode to RevealCancel\n",
      "For layer 10 the preceding linear layer is 9 of type Dense;\n",
      "In accordance with nonlinear_mxts_modeDeepLIFT_GenomicsDefault we are setting the NonlinearMxtsMode to RevealCancel\n",
      "nonlinear_mxts_mode is set to: DeepLIFT_GenomicsDefault\n",
      "For layer 1 the preceding linear layer is 0 of type Conv1D;\n",
      "In accordance with nonlinear_mxts_mode=DeepLIFT_GenomicsDefault we are setting the NonlinearMxtsMode to Rescale\n",
      "For layer 3 the preceding linear layer is 2 of type Conv1D;\n",
      "In accordance with nonlinear_mxts_mode=DeepLIFT_GenomicsDefault we are setting the NonlinearMxtsMode to Rescale\n",
      "For layer 7 the preceding linear layer is 6 of type Dense;\n",
      "In accordance with nonlinear_mxts_modeDeepLIFT_GenomicsDefault we are setting the NonlinearMxtsMode to RevealCancel\n",
      "For layer 10 the preceding linear layer is 9 of type Dense;\n",
      "In accordance with nonlinear_mxts_modeDeepLIFT_GenomicsDefault we are setting the NonlinearMxtsMode to RevealCancel\n",
      "nonlinear_mxts_mode is set to: DeepLIFT_GenomicsDefault\n",
      "For layer 1 the preceding linear layer is 0 of type Conv1D;\n",
      "In accordance with nonlinear_mxts_mode=DeepLIFT_GenomicsDefault we are setting the NonlinearMxtsMode to Rescale\n",
      "For layer 3 the preceding linear layer is 2 of type Conv1D;\n",
      "In accordance with nonlinear_mxts_mode=DeepLIFT_GenomicsDefault we are setting the NonlinearMxtsMode to Rescale\n",
      "For layer 7 the preceding linear layer is 6 of type Dense;\n",
      "In accordance with nonlinear_mxts_modeDeepLIFT_GenomicsDefault we are setting the NonlinearMxtsMode to RevealCancel\n",
      "For layer 10 the preceding linear layer is 9 of type Dense;\n",
      "In accordance with nonlinear_mxts_modeDeepLIFT_GenomicsDefault we are setting the NonlinearMxtsMode to RevealCancel\n",
      "nonlinear_mxts_mode is set to: DeepLIFT_GenomicsDefault\n",
      "For layer 1 the preceding linear layer is 0 of type Conv1D;\n",
      "In accordance with nonlinear_mxts_mode=DeepLIFT_GenomicsDefault we are setting the NonlinearMxtsMode to Rescale\n",
      "For layer 3 the preceding linear layer is 2 of type Conv1D;\n",
      "In accordance with nonlinear_mxts_mode=DeepLIFT_GenomicsDefault we are setting the NonlinearMxtsMode to Rescale\n",
      "For layer 7 the preceding linear layer is 6 of type Dense;\n",
      "In accordance with nonlinear_mxts_modeDeepLIFT_GenomicsDefault we are setting the NonlinearMxtsMode to RevealCancel\n",
      "For layer 10 the preceding linear layer is 9 of type Dense;\n",
      "In accordance with nonlinear_mxts_modeDeepLIFT_GenomicsDefault we are setting the NonlinearMxtsMode to RevealCancel\n",
      "nonlinear_mxts_mode is set to: DeepLIFT_GenomicsDefault\n",
      "For layer 1 the preceding linear layer is 0 of type Conv1D;\n",
      "In accordance with nonlinear_mxts_mode=DeepLIFT_GenomicsDefault we are setting the NonlinearMxtsMode to Rescale\n",
      "For layer 3 the preceding linear layer is 2 of type Conv1D;\n",
      "In accordance with nonlinear_mxts_mode=DeepLIFT_GenomicsDefault we are setting the NonlinearMxtsMode to Rescale\n",
      "For layer 7 the preceding linear layer is 6 of type Dense;\n",
      "In accordance with nonlinear_mxts_modeDeepLIFT_GenomicsDefault we are setting the NonlinearMxtsMode to RevealCancel\n",
      "For layer 10 the preceding linear layer is 9 of type Dense;\n",
      "In accordance with nonlinear_mxts_modeDeepLIFT_GenomicsDefault we are setting the NonlinearMxtsMode to RevealCancel\n"
     ]
    }
   ],
   "source": [
    "all_and_runs = []\n",
    "for i in range(len(all_motifs)):\n",
    "    for j in range(i + 1, len(all_motifs)):\n",
    "        m1, m2 = all_motifs[i], all_motifs[j]\n",
    "        all_and_runs.append(('../model/model_and_' + m1 + '_' + m2 + '.h5', \n",
    "             '../model/model_and_' + m1 + '_' + m2 + '.json', \n",
    "             '../data/testing_' + m1 + '_' + m2 + '.npy', \n",
    "             check_and(m1, m2)))\n",
    "and_results = run_explanations(all_and_runs)"
   ]
  },
  {
   "cell_type": "code",
   "execution_count": 12,
   "id": "ae2f21b9",
   "metadata": {},
   "outputs": [
    {
     "name": "stdout",
     "output_type": "stream",
     "text": [
      "Background mean: 0.00147, Background std: 0.051\n",
      "Motif: SRF_disc1\n",
      "Percent 1 std: 0.51%\n",
      "Motif: AP1_disc1\n",
      "Percent 1 std: 1.31%\n",
      "Background mean: 0.00194, Background std: 0.0416\n",
      "Motif: SRF_disc1\n",
      "Percent 1 std: 0.52%\n",
      "Motif: GATA_disc1\n",
      "Percent 1 std: 2.12%\n",
      "Background mean: -0.00382, Background std: 0.0548\n",
      "Motif: SRF_disc1\n",
      "Percent 1 std: 1.14%\n",
      "Motif: TAL1_known1\n",
      "Percent 1 std: 1.16%\n",
      "Background mean: -0.00022, Background std: 0.0503\n",
      "Motif: SRF_disc1\n",
      "Percent 1 std: 0.66%\n",
      "Motif: IRF_known1\n",
      "Percent 1 std: 0.78%\n",
      "Background mean: 0.00401, Background std: 0.0486\n",
      "Motif: AP1_disc1\n",
      "Percent 1 std: 24.94%\n",
      "Motif: GATA_disc1\n",
      "Percent 1 std: 30.29%\n",
      "Background mean: 0.00416, Background std: 0.0404\n",
      "Motif: AP1_disc1\n",
      "Percent 1 std: 2.62%\n",
      "Motif: TAL1_known1\n",
      "Percent 1 std: 1.07%\n",
      "Background mean: -0.000129, Background std: 0.0417\n",
      "Motif: AP1_disc1\n",
      "Percent 1 std: 6.02%\n",
      "Motif: IRF_known1\n",
      "Percent 1 std: 0.27%\n",
      "Background mean: -0.000256, Background std: 0.0845\n",
      "Motif: GATA_disc1\n",
      "Percent 1 std: 7.64%\n",
      "Motif: TAL1_known1\n",
      "Percent 1 std: 20.89%\n",
      "Background mean: 0.00439, Background std: 0.127\n",
      "Motif: GATA_disc1\n",
      "Percent 1 std: 45.15%\n",
      "Motif: IRF_known1\n",
      "Percent 1 std: 99.07%\n",
      "Background mean: -0.00424, Background std: 0.0744\n",
      "Motif: TAL1_known1\n",
      "Percent 1 std: 2.53%\n",
      "Motif: IRF_known1\n",
      "Percent 1 std: 2.27%\n"
     ]
    }
   ],
   "source": [
    "for line in and_results:\n",
    "    print(line)"
   ]
  },
  {
   "cell_type": "markdown",
   "id": "2f389726",
   "metadata": {},
   "source": [
    "## Percent of motifs fall in background ('or' model)"
   ]
  },
  {
   "cell_type": "code",
   "execution_count": 13,
   "id": "c7aeca14",
   "metadata": {
    "colab": {
     "base_uri": "https://localhost:8080/"
    },
    "executionInfo": {
     "elapsed": 114181,
     "status": "ok",
     "timestamp": 1635991544010,
     "user": {
      "displayName": "Wenbo Cui",
      "photoUrl": "https://lh3.googleusercontent.com/a/default-user=s64",
      "userId": "17753742665139675012"
     },
     "user_tz": 240
    },
    "id": "2ZSTPsh-5eSU",
    "outputId": "5482e66c-8755-4220-a047-5cfed4477537",
    "scrolled": true
   },
   "outputs": [
    {
     "name": "stdout",
     "output_type": "stream",
     "text": [
      "nonlinear_mxts_mode is set to: DeepLIFT_GenomicsDefault\n",
      "For layer 1 the preceding linear layer is 0 of type Conv1D;\n",
      "In accordance with nonlinear_mxts_mode=DeepLIFT_GenomicsDefault we are setting the NonlinearMxtsMode to Rescale\n",
      "For layer 3 the preceding linear layer is 2 of type Conv1D;\n",
      "In accordance with nonlinear_mxts_mode=DeepLIFT_GenomicsDefault we are setting the NonlinearMxtsMode to Rescale\n",
      "For layer 7 the preceding linear layer is 6 of type Dense;\n",
      "In accordance with nonlinear_mxts_modeDeepLIFT_GenomicsDefault we are setting the NonlinearMxtsMode to RevealCancel\n",
      "For layer 10 the preceding linear layer is 9 of type Dense;\n",
      "In accordance with nonlinear_mxts_modeDeepLIFT_GenomicsDefault we are setting the NonlinearMxtsMode to RevealCancel\n",
      "nonlinear_mxts_mode is set to: DeepLIFT_GenomicsDefault\n",
      "For layer 1 the preceding linear layer is 0 of type Conv1D;\n",
      "In accordance with nonlinear_mxts_mode=DeepLIFT_GenomicsDefault we are setting the NonlinearMxtsMode to Rescale\n",
      "For layer 3 the preceding linear layer is 2 of type Conv1D;\n",
      "In accordance with nonlinear_mxts_mode=DeepLIFT_GenomicsDefault we are setting the NonlinearMxtsMode to Rescale\n",
      "For layer 7 the preceding linear layer is 6 of type Dense;\n",
      "In accordance with nonlinear_mxts_modeDeepLIFT_GenomicsDefault we are setting the NonlinearMxtsMode to RevealCancel\n",
      "For layer 10 the preceding linear layer is 9 of type Dense;\n",
      "In accordance with nonlinear_mxts_modeDeepLIFT_GenomicsDefault we are setting the NonlinearMxtsMode to RevealCancel\n",
      "nonlinear_mxts_mode is set to: DeepLIFT_GenomicsDefault\n",
      "For layer 1 the preceding linear layer is 0 of type Conv1D;\n",
      "In accordance with nonlinear_mxts_mode=DeepLIFT_GenomicsDefault we are setting the NonlinearMxtsMode to Rescale\n",
      "For layer 3 the preceding linear layer is 2 of type Conv1D;\n",
      "In accordance with nonlinear_mxts_mode=DeepLIFT_GenomicsDefault we are setting the NonlinearMxtsMode to Rescale\n",
      "For layer 7 the preceding linear layer is 6 of type Dense;\n",
      "In accordance with nonlinear_mxts_modeDeepLIFT_GenomicsDefault we are setting the NonlinearMxtsMode to RevealCancel\n",
      "For layer 10 the preceding linear layer is 9 of type Dense;\n",
      "In accordance with nonlinear_mxts_modeDeepLIFT_GenomicsDefault we are setting the NonlinearMxtsMode to RevealCancel\n",
      "nonlinear_mxts_mode is set to: DeepLIFT_GenomicsDefault\n",
      "For layer 1 the preceding linear layer is 0 of type Conv1D;\n",
      "In accordance with nonlinear_mxts_mode=DeepLIFT_GenomicsDefault we are setting the NonlinearMxtsMode to Rescale\n",
      "For layer 3 the preceding linear layer is 2 of type Conv1D;\n",
      "In accordance with nonlinear_mxts_mode=DeepLIFT_GenomicsDefault we are setting the NonlinearMxtsMode to Rescale\n",
      "For layer 7 the preceding linear layer is 6 of type Dense;\n",
      "In accordance with nonlinear_mxts_modeDeepLIFT_GenomicsDefault we are setting the NonlinearMxtsMode to RevealCancel\n",
      "For layer 10 the preceding linear layer is 9 of type Dense;\n",
      "In accordance with nonlinear_mxts_modeDeepLIFT_GenomicsDefault we are setting the NonlinearMxtsMode to RevealCancel\n",
      "nonlinear_mxts_mode is set to: DeepLIFT_GenomicsDefault\n",
      "For layer 1 the preceding linear layer is 0 of type Conv1D;\n",
      "In accordance with nonlinear_mxts_mode=DeepLIFT_GenomicsDefault we are setting the NonlinearMxtsMode to Rescale\n",
      "For layer 3 the preceding linear layer is 2 of type Conv1D;\n",
      "In accordance with nonlinear_mxts_mode=DeepLIFT_GenomicsDefault we are setting the NonlinearMxtsMode to Rescale\n",
      "For layer 7 the preceding linear layer is 6 of type Dense;\n",
      "In accordance with nonlinear_mxts_modeDeepLIFT_GenomicsDefault we are setting the NonlinearMxtsMode to RevealCancel\n",
      "For layer 10 the preceding linear layer is 9 of type Dense;\n",
      "In accordance with nonlinear_mxts_modeDeepLIFT_GenomicsDefault we are setting the NonlinearMxtsMode to RevealCancel\n",
      "nonlinear_mxts_mode is set to: DeepLIFT_GenomicsDefault\n",
      "For layer 1 the preceding linear layer is 0 of type Conv1D;\n",
      "In accordance with nonlinear_mxts_mode=DeepLIFT_GenomicsDefault we are setting the NonlinearMxtsMode to Rescale\n",
      "For layer 3 the preceding linear layer is 2 of type Conv1D;\n",
      "In accordance with nonlinear_mxts_mode=DeepLIFT_GenomicsDefault we are setting the NonlinearMxtsMode to Rescale\n",
      "For layer 7 the preceding linear layer is 6 of type Dense;\n",
      "In accordance with nonlinear_mxts_modeDeepLIFT_GenomicsDefault we are setting the NonlinearMxtsMode to RevealCancel\n",
      "For layer 10 the preceding linear layer is 9 of type Dense;\n",
      "In accordance with nonlinear_mxts_modeDeepLIFT_GenomicsDefault we are setting the NonlinearMxtsMode to RevealCancel\n",
      "nonlinear_mxts_mode is set to: DeepLIFT_GenomicsDefault\n",
      "For layer 1 the preceding linear layer is 0 of type Conv1D;\n",
      "In accordance with nonlinear_mxts_mode=DeepLIFT_GenomicsDefault we are setting the NonlinearMxtsMode to Rescale\n",
      "For layer 3 the preceding linear layer is 2 of type Conv1D;\n",
      "In accordance with nonlinear_mxts_mode=DeepLIFT_GenomicsDefault we are setting the NonlinearMxtsMode to Rescale\n",
      "For layer 7 the preceding linear layer is 6 of type Dense;\n",
      "In accordance with nonlinear_mxts_modeDeepLIFT_GenomicsDefault we are setting the NonlinearMxtsMode to RevealCancel\n",
      "For layer 10 the preceding linear layer is 9 of type Dense;\n",
      "In accordance with nonlinear_mxts_modeDeepLIFT_GenomicsDefault we are setting the NonlinearMxtsMode to RevealCancel\n",
      "nonlinear_mxts_mode is set to: DeepLIFT_GenomicsDefault\n",
      "For layer 1 the preceding linear layer is 0 of type Conv1D;\n",
      "In accordance with nonlinear_mxts_mode=DeepLIFT_GenomicsDefault we are setting the NonlinearMxtsMode to Rescale\n",
      "For layer 3 the preceding linear layer is 2 of type Conv1D;\n",
      "In accordance with nonlinear_mxts_mode=DeepLIFT_GenomicsDefault we are setting the NonlinearMxtsMode to Rescale\n",
      "For layer 7 the preceding linear layer is 6 of type Dense;\n",
      "In accordance with nonlinear_mxts_modeDeepLIFT_GenomicsDefault we are setting the NonlinearMxtsMode to RevealCancel\n",
      "For layer 10 the preceding linear layer is 9 of type Dense;\n",
      "In accordance with nonlinear_mxts_modeDeepLIFT_GenomicsDefault we are setting the NonlinearMxtsMode to RevealCancel\n",
      "nonlinear_mxts_mode is set to: DeepLIFT_GenomicsDefault\n",
      "For layer 1 the preceding linear layer is 0 of type Conv1D;\n",
      "In accordance with nonlinear_mxts_mode=DeepLIFT_GenomicsDefault we are setting the NonlinearMxtsMode to Rescale\n",
      "For layer 3 the preceding linear layer is 2 of type Conv1D;\n",
      "In accordance with nonlinear_mxts_mode=DeepLIFT_GenomicsDefault we are setting the NonlinearMxtsMode to Rescale\n",
      "For layer 7 the preceding linear layer is 6 of type Dense;\n",
      "In accordance with nonlinear_mxts_modeDeepLIFT_GenomicsDefault we are setting the NonlinearMxtsMode to RevealCancel\n",
      "For layer 10 the preceding linear layer is 9 of type Dense;\n",
      "In accordance with nonlinear_mxts_modeDeepLIFT_GenomicsDefault we are setting the NonlinearMxtsMode to RevealCancel\n",
      "nonlinear_mxts_mode is set to: DeepLIFT_GenomicsDefault\n",
      "For layer 1 the preceding linear layer is 0 of type Conv1D;\n",
      "In accordance with nonlinear_mxts_mode=DeepLIFT_GenomicsDefault we are setting the NonlinearMxtsMode to Rescale\n",
      "For layer 3 the preceding linear layer is 2 of type Conv1D;\n",
      "In accordance with nonlinear_mxts_mode=DeepLIFT_GenomicsDefault we are setting the NonlinearMxtsMode to Rescale\n",
      "For layer 7 the preceding linear layer is 6 of type Dense;\n",
      "In accordance with nonlinear_mxts_modeDeepLIFT_GenomicsDefault we are setting the NonlinearMxtsMode to RevealCancel\n",
      "For layer 10 the preceding linear layer is 9 of type Dense;\n",
      "In accordance with nonlinear_mxts_modeDeepLIFT_GenomicsDefault we are setting the NonlinearMxtsMode to RevealCancel\n"
     ]
    }
   ],
   "source": [
    "all_or_runs = []\n",
    "for i in range(len(all_motifs)):\n",
    "    for j in range(i + 1, len(all_motifs)):\n",
    "        m1, m2 = all_motifs[i], all_motifs[j]\n",
    "        all_or_runs.append(('../model/model_and_' + m1 + '_' + m2 + '.h5', \n",
    "             '../model/model_and_' + m1 + '_' + m2 + '.json', \n",
    "             '../data/testing_' + m1 + '_' + m2 + '.npy', \n",
    "             check_or(m1, m2)))\n",
    "or_results = run_explanations(all_or_runs)"
   ]
  },
  {
   "cell_type": "code",
   "execution_count": 14,
   "id": "b21bdcbc",
   "metadata": {},
   "outputs": [
    {
     "name": "stdout",
     "output_type": "stream",
     "text": [
      "Background mean: 0.00147, Background std: 0.051\n",
      "Motif: SRF_disc1\n",
      "Percent 1 std: 0.51%\n",
      "Motif: AP1_disc1\n",
      "Percent 1 std: 1.31%\n",
      "Background mean: 0.00194, Background std: 0.0416\n",
      "Motif: SRF_disc1\n",
      "Percent 1 std: 0.52%\n",
      "Motif: GATA_disc1\n",
      "Percent 1 std: 2.12%\n",
      "Background mean: -0.00382, Background std: 0.0548\n",
      "Motif: SRF_disc1\n",
      "Percent 1 std: 1.14%\n",
      "Motif: TAL1_known1\n",
      "Percent 1 std: 1.16%\n",
      "Background mean: -0.00022, Background std: 0.0503\n",
      "Motif: SRF_disc1\n",
      "Percent 1 std: 0.66%\n",
      "Motif: IRF_known1\n",
      "Percent 1 std: 0.78%\n",
      "Background mean: 0.00401, Background std: 0.0486\n",
      "Motif: AP1_disc1\n",
      "Percent 1 std: 24.94%\n",
      "Motif: GATA_disc1\n",
      "Percent 1 std: 30.29%\n",
      "Background mean: 0.00416, Background std: 0.0404\n",
      "Motif: AP1_disc1\n",
      "Percent 1 std: 2.62%\n",
      "Motif: TAL1_known1\n",
      "Percent 1 std: 1.07%\n",
      "Background mean: -0.000129, Background std: 0.0417\n",
      "Motif: AP1_disc1\n",
      "Percent 1 std: 6.02%\n",
      "Motif: IRF_known1\n",
      "Percent 1 std: 0.27%\n",
      "Background mean: -0.000256, Background std: 0.0845\n",
      "Motif: GATA_disc1\n",
      "Percent 1 std: 7.64%\n",
      "Motif: TAL1_known1\n",
      "Percent 1 std: 20.89%\n",
      "Background mean: 0.00439, Background std: 0.127\n",
      "Motif: GATA_disc1\n",
      "Percent 1 std: 45.15%\n",
      "Motif: IRF_known1\n",
      "Percent 1 std: 99.07%\n",
      "Background mean: -0.00424, Background std: 0.0744\n",
      "Motif: TAL1_known1\n",
      "Percent 1 std: 2.53%\n",
      "Motif: IRF_known1\n",
      "Percent 1 std: 2.27%\n"
     ]
    }
   ],
   "source": [
    "for line in or_results:\n",
    "    print(line)"
   ]
  },
  {
   "cell_type": "markdown",
   "id": "f035291e",
   "metadata": {},
   "source": [
    "## Percent of motifs fall in background ('single motif' model)"
   ]
  },
  {
   "cell_type": "code",
   "execution_count": 17,
   "id": "398c5f9e",
   "metadata": {
    "colab": {
     "base_uri": "https://localhost:8080/"
    },
    "executionInfo": {
     "elapsed": 114181,
     "status": "ok",
     "timestamp": 1635991544010,
     "user": {
      "displayName": "Wenbo Cui",
      "photoUrl": "https://lh3.googleusercontent.com/a/default-user=s64",
      "userId": "17753742665139675012"
     },
     "user_tz": 240
    },
    "id": "2ZSTPsh-5eSU",
    "outputId": "5482e66c-8755-4220-a047-5cfed4477537",
    "scrolled": true
   },
   "outputs": [
    {
     "name": "stdout",
     "output_type": "stream",
     "text": [
      "nonlinear_mxts_mode is set to: DeepLIFT_GenomicsDefault\n",
      "For layer 1 the preceding linear layer is 0 of type Conv1D;\n",
      "In accordance with nonlinear_mxts_mode=DeepLIFT_GenomicsDefault we are setting the NonlinearMxtsMode to Rescale\n",
      "For layer 3 the preceding linear layer is 2 of type Conv1D;\n",
      "In accordance with nonlinear_mxts_mode=DeepLIFT_GenomicsDefault we are setting the NonlinearMxtsMode to Rescale\n",
      "For layer 7 the preceding linear layer is 6 of type Dense;\n",
      "In accordance with nonlinear_mxts_modeDeepLIFT_GenomicsDefault we are setting the NonlinearMxtsMode to RevealCancel\n",
      "For layer 10 the preceding linear layer is 9 of type Dense;\n",
      "In accordance with nonlinear_mxts_modeDeepLIFT_GenomicsDefault we are setting the NonlinearMxtsMode to RevealCancel\n",
      "nonlinear_mxts_mode is set to: DeepLIFT_GenomicsDefault\n",
      "For layer 1 the preceding linear layer is 0 of type Conv1D;\n",
      "In accordance with nonlinear_mxts_mode=DeepLIFT_GenomicsDefault we are setting the NonlinearMxtsMode to Rescale\n",
      "For layer 3 the preceding linear layer is 2 of type Conv1D;\n",
      "In accordance with nonlinear_mxts_mode=DeepLIFT_GenomicsDefault we are setting the NonlinearMxtsMode to Rescale\n",
      "For layer 7 the preceding linear layer is 6 of type Dense;\n",
      "In accordance with nonlinear_mxts_modeDeepLIFT_GenomicsDefault we are setting the NonlinearMxtsMode to RevealCancel\n",
      "For layer 10 the preceding linear layer is 9 of type Dense;\n",
      "In accordance with nonlinear_mxts_modeDeepLIFT_GenomicsDefault we are setting the NonlinearMxtsMode to RevealCancel\n",
      "nonlinear_mxts_mode is set to: DeepLIFT_GenomicsDefault\n",
      "For layer 1 the preceding linear layer is 0 of type Conv1D;\n",
      "In accordance with nonlinear_mxts_mode=DeepLIFT_GenomicsDefault we are setting the NonlinearMxtsMode to Rescale\n",
      "For layer 3 the preceding linear layer is 2 of type Conv1D;\n",
      "In accordance with nonlinear_mxts_mode=DeepLIFT_GenomicsDefault we are setting the NonlinearMxtsMode to Rescale\n",
      "For layer 7 the preceding linear layer is 6 of type Dense;\n",
      "In accordance with nonlinear_mxts_modeDeepLIFT_GenomicsDefault we are setting the NonlinearMxtsMode to RevealCancel\n",
      "For layer 10 the preceding linear layer is 9 of type Dense;\n",
      "In accordance with nonlinear_mxts_modeDeepLIFT_GenomicsDefault we are setting the NonlinearMxtsMode to RevealCancel\n",
      "nonlinear_mxts_mode is set to: DeepLIFT_GenomicsDefault\n",
      "For layer 1 the preceding linear layer is 0 of type Conv1D;\n",
      "In accordance with nonlinear_mxts_mode=DeepLIFT_GenomicsDefault we are setting the NonlinearMxtsMode to Rescale\n",
      "For layer 3 the preceding linear layer is 2 of type Conv1D;\n",
      "In accordance with nonlinear_mxts_mode=DeepLIFT_GenomicsDefault we are setting the NonlinearMxtsMode to Rescale\n",
      "For layer 7 the preceding linear layer is 6 of type Dense;\n",
      "In accordance with nonlinear_mxts_modeDeepLIFT_GenomicsDefault we are setting the NonlinearMxtsMode to RevealCancel\n",
      "For layer 10 the preceding linear layer is 9 of type Dense;\n",
      "In accordance with nonlinear_mxts_modeDeepLIFT_GenomicsDefault we are setting the NonlinearMxtsMode to RevealCancel\n",
      "nonlinear_mxts_mode is set to: DeepLIFT_GenomicsDefault\n",
      "For layer 1 the preceding linear layer is 0 of type Conv1D;\n",
      "In accordance with nonlinear_mxts_mode=DeepLIFT_GenomicsDefault we are setting the NonlinearMxtsMode to Rescale\n",
      "For layer 3 the preceding linear layer is 2 of type Conv1D;\n",
      "In accordance with nonlinear_mxts_mode=DeepLIFT_GenomicsDefault we are setting the NonlinearMxtsMode to Rescale\n",
      "For layer 7 the preceding linear layer is 6 of type Dense;\n",
      "In accordance with nonlinear_mxts_modeDeepLIFT_GenomicsDefault we are setting the NonlinearMxtsMode to RevealCancel\n",
      "For layer 10 the preceding linear layer is 9 of type Dense;\n",
      "In accordance with nonlinear_mxts_modeDeepLIFT_GenomicsDefault we are setting the NonlinearMxtsMode to RevealCancel\n"
     ]
    }
   ],
   "source": [
    "all_single_runs = []\n",
    "for i in all_motifs:\n",
    "    all_single_runs.append(('../model/model_single_' + i + '.h5', \n",
    "         '../model/model_single_' + i + '.json', \n",
    "         '../data/testing_' + i + '.npy', \n",
    "         check(i)))\n",
    "\n",
    "single_results = run_explanations(all_single_runs)"
   ]
  },
  {
   "cell_type": "code",
   "execution_count": 18,
   "id": "30b85fc4",
   "metadata": {},
   "outputs": [
    {
     "name": "stdout",
     "output_type": "stream",
     "text": [
      "Background mean: 0.0138, Background std: 0.0492\n",
      "Motif: SRF_disc1\n",
      "Percent 1 std: 0.93%\n",
      "Background mean: 0.00909, Background std: 0.0311\n",
      "Motif: AP1_disc1\n",
      "Percent 1 std: 1.88%\n",
      "Background mean: 0.0098, Background std: 0.0232\n",
      "Motif: GATA_disc1\n",
      "Percent 1 std: 1.62%\n",
      "Background mean: 0.00868, Background std: 0.0263\n",
      "Motif: TAL1_known1\n",
      "Percent 1 std: 0.96%\n",
      "Background mean: 0.0114, Background std: 0.0288\n",
      "Motif: IRF_known1\n",
      "Percent 1 std: 0.47%\n"
     ]
    }
   ],
   "source": [
    "for line in single_results:\n",
    "    print(line)"
   ]
  },
  {
   "cell_type": "code",
   "execution_count": null,
   "id": "912a871b",
   "metadata": {},
   "outputs": [],
   "source": []
  }
 ],
 "metadata": {
  "colab": {
   "collapsed_sections": [],
   "name": "Explanation.ipynb",
   "provenance": []
  },
  "kernelspec": {
   "display_name": "Python 3",
   "language": "python",
   "name": "python3"
  },
  "language_info": {
   "codemirror_mode": {
    "name": "ipython",
    "version": 3
   },
   "file_extension": ".py",
   "mimetype": "text/x-python",
   "name": "python",
   "nbconvert_exporter": "python",
   "pygments_lexer": "ipython3",
   "version": "3.7.10"
  }
 },
 "nbformat": 4,
 "nbformat_minor": 5
}
