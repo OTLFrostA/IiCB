{
 "cells": [
  {
   "cell_type": "code",
   "execution_count": 1,
   "id": "3bhNBgxMcxjZ",
   "metadata": {
    "colab": {
     "base_uri": "https://localhost:8080/"
    },
    "executionInfo": {
     "elapsed": 19164,
     "status": "ok",
     "timestamp": 1635353167677,
     "user": {
      "displayName": "Wenbo Cui",
      "photoUrl": "https://lh3.googleusercontent.com/a/default-user=s64",
      "userId": "17753742665139675012"
     },
     "user_tz": 240
    },
    "id": "3bhNBgxMcxjZ",
    "outputId": "99d55dd6-3025-4f8e-fb10-f93d04dc844d"
   },
   "outputs": [
    {
     "name": "stdout",
     "output_type": "stream",
     "text": [
      "Tensorflow version: 1.15.0\n",
      "Keras version: 2.2.4\n",
      "Numpy version: 1.21.2\n"
     ]
    },
    {
     "name": "stderr",
     "output_type": "stream",
     "text": [
      "Using TensorFlow backend.\n"
     ]
    }
   ],
   "source": [
    "%run common.ipynb"
   ]
  },
  {
   "cell_type": "code",
   "execution_count": 2,
   "id": "83532777",
   "metadata": {
    "executionInfo": {
     "elapsed": 20,
     "status": "ok",
     "timestamp": 1635353167678,
     "user": {
      "displayName": "Wenbo Cui",
      "photoUrl": "https://lh3.googleusercontent.com/a/default-user=s64",
      "userId": "17753742665139675012"
     },
     "user_tz": 240
    },
    "id": "83532777"
   },
   "outputs": [],
   "source": [
    "import simdna\n",
    "from simdna import synthetic as sn\n",
    "import numpy as np\n",
    "from collections import defaultdict"
   ]
  },
  {
   "cell_type": "code",
   "execution_count": 3,
   "id": "220712b3",
   "metadata": {
    "executionInfo": {
     "elapsed": 19,
     "status": "ok",
     "timestamp": 1635353167679,
     "user": {
      "displayName": "Wenbo Cui",
      "photoUrl": "https://lh3.googleusercontent.com/a/default-user=s64",
      "userId": "17753742665139675012"
     },
     "user_tz": 240
    },
    "id": "220712b3"
   },
   "outputs": [],
   "source": [
    "SEQUENCE_LENGTH = 200\n",
    "BACKGROUND_DISTRIBUTION = {'A':0.3, 'C':0.2, 'G':0.2, 'T':0.3}\n",
    "\n",
    "background = sn.ZeroOrderBackgroundGenerator(SEQUENCE_LENGTH, \n",
    "                                             discreteDistribution=BACKGROUND_DISTRIBUTION)\n",
    "\n",
    "# position generator\n",
    "position_generator = sn.UniformPositionGenerator()"
   ]
  },
  {
   "cell_type": "code",
   "execution_count": 4,
   "id": "NufJsB0tnTD2",
   "metadata": {
    "executionInfo": {
     "elapsed": 8,
     "status": "ok",
     "timestamp": 1635353168140,
     "user": {
      "displayName": "Wenbo Cui",
      "photoUrl": "https://lh3.googleusercontent.com/a/default-user=s64",
      "userId": "17753742665139675012"
     },
     "user_tz": 240
    },
    "id": "NufJsB0tnTD2"
   },
   "outputs": [],
   "source": [
    "SIX5_disc1 = 'SIX5_disc1'\n",
    "MYC_disc1 = 'MYC_disc1'\n",
    "SRF_disc1 = 'SRF_disc1'\n",
    "AP1_disc1 = 'AP1_disc1'\n",
    "GATA_disc1 = 'GATA_disc1'\n",
    "TAL1_known1 = 'TAL1_known1'\n",
    "IRF_known1 = 'IRF_known1'\n",
    "\n",
    "all_motifs = [\n",
    "#  SIX5_disc1, MYC_disc1, \n",
    " SRF_disc1, AP1_disc1, GATA_disc1, TAL1_known1, IRF_known1\n",
    "]\n",
    "\n",
    "loaded_motifs = sn.LoadedEncodeMotifs(simdna.ENCODE_MOTIFS_PATH, pseudocountProb=0.001)"
   ]
  },
  {
   "cell_type": "code",
   "execution_count": 5,
   "id": "747dfd65",
   "metadata": {
    "executionInfo": {
     "elapsed": 128,
     "status": "ok",
     "timestamp": 1635353240090,
     "user": {
      "displayName": "Wenbo Cui",
      "photoUrl": "https://lh3.googleusercontent.com/a/default-user=s64",
      "userId": "17753742665139675012"
     },
     "user_tz": 240
    },
    "id": "747dfd65"
   },
   "outputs": [],
   "source": [
    "def get_quantity_generator(count):\n",
    "    if count == 1:\n",
    "        return sn.MinMaxWrapper(sn.PoissonQuantityGenerator(3), theMin=1, theMax=3)\n",
    "    elif count == 2:\n",
    "        return sn.MinMaxWrapper(sn.PoissonQuantityGenerator(1.5), theMin=1, theMax=3)\n",
    "    else:\n",
    "        return 0"
   ]
  },
  {
   "cell_type": "code",
   "execution_count": 6,
   "id": "eUMM9LjQiHZD",
   "metadata": {
    "executionInfo": {
     "elapsed": 168,
     "status": "ok",
     "timestamp": 1635353246087,
     "user": {
      "displayName": "Wenbo Cui",
      "photoUrl": "https://lh3.googleusercontent.com/a/default-user=s64",
      "userId": "17753742665139675012"
     },
     "user_tz": 240
    },
    "id": "eUMM9LjQiHZD"
   },
   "outputs": [],
   "source": [
    "def data_gen(sample_count, data_bundle):\n",
    "    data_out = []\n",
    "    for motifs in data_bundle:\n",
    "        embedders = [\n",
    "            sn.RepeatedEmbedder(\n",
    "                sn.SubstringEmbedder(\n",
    "                    sn.PwmSamplerFromLoadedMotifs(loaded_motifs, motif_name),\n",
    "                    position_generator, \n",
    "                    name=motif_name\n",
    "                    ),\n",
    "                get_quantity_generator(len(motifs))\n",
    "                ) for motif_name in motifs]\n",
    "\n",
    "        embedder = sn.EmbedInABackground(background, embedders)\n",
    "        embedded = list(sn.GenerateSequenceNTimes(embedder, sample_count).generateSequences())\n",
    "        data_out = data_out + embedded\n",
    "    return data_out"
   ]
  },
  {
   "cell_type": "code",
   "execution_count": 12,
   "id": "48Y7JnTex9O8",
   "metadata": {
    "colab": {
     "base_uri": "https://localhost:8080/"
    },
    "executionInfo": {
     "elapsed": 340406,
     "status": "ok",
     "timestamp": 1633997116471,
     "user": {
      "displayName": "Wenbo Cui",
      "photoUrl": "https://lh3.googleusercontent.com/a/default-user=s64",
      "userId": "17753742665139675012"
     },
     "user_tz": 240
    },
    "id": "48Y7JnTex9O8",
    "outputId": "7e50965c-fab6-4869-db58-24bc1fc2266d"
   },
   "outputs": [
    {
     "name": "stdout",
     "output_type": "stream",
     "text": [
      "warning: made 10 tries at trying to sample from distribution with min/max limits\n",
      "Warning: made 10 attemps at trying to embed AP1_disc1-GTGACGTCAT in region of length 200 with 40.0 occupied sites\n",
      "warning: made 10 tries at trying to sample from distribution with min/max limits\n",
      "warning: made 10 tries at trying to sample from distribution with min/max limits\n",
      "warning: made 10 tries at trying to sample from distribution with min/max limits\n",
      "warning: made 10 tries at trying to sample from distribution with min/max limits\n",
      "warning: made 10 tries at trying to sample from distribution with min/max limits\n",
      "Warning: made 10 attemps at trying to embed TAL1_known1-GGGACCAGGTGGTCGG in region of length 200 with 62.0 occupied sites\n",
      "Warning: made 10 attemps at trying to embed TAL1_known1-TAATGCAGGTGTTCTG in region of length 200 with 52.0 occupied sites\n",
      "Warning: made 10 attemps at trying to embed TAL1_known1-GACAACAGATGGTCTT in region of length 200 with 36.0 occupied sites\n",
      "Warning: made 10 attemps at trying to embed TAL1_known1-CGGAACAGATGTGAGC in region of length 200 with 52.0 occupied sites\n",
      "Warning: made 10 attemps at trying to embed TAL1_known1-TCGCCCAGATGGTCGC in region of length 200 with 52.0 occupied sites\n",
      "Warning: made 10 attemps at trying to embed TAL1_known1-TGGCCCAGATGTTGGC in region of length 200 with 62.0 occupied sites\n",
      "Warning: made 10 attemps at trying to embed TAL1_known1-ACGGACAGATGTCAGT in region of length 200 with 62.0 occupied sites\n",
      "Warning: made 10 attemps at trying to embed TAL1_known1-GCGAACAGCTGGTGCA in region of length 200 with 52.0 occupied sites\n",
      "warning: made 10 tries at trying to sample from distribution with min/max limits\n",
      "warning: made 10 tries at trying to sample from distribution with min/max limits\n",
      "Warning: made 10 attemps at trying to embed IRF_known1-CAAAAGTGAAACT in region of length 200 with 56.0 occupied sites\n",
      "Warning: made 10 attemps at trying to embed IRF_known1-GAAAAGTGAAAGC in region of length 200 with 56.0 occupied sites\n",
      "warning: made 10 tries at trying to sample from distribution with min/max limits\n",
      "Warning: made 10 attemps at trying to embed GATA_disc1-GCAGATAAGG in region of length 200 with 40.0 occupied sites\n",
      "warning: made 10 tries at trying to sample from distribution with min/max limits\n",
      "warning: made 10 tries at trying to sample from distribution with min/max limits\n",
      "Warning: made 10 attemps at trying to embed TAL1_known1-CATACCAGATGGTACT in region of length 200 with 46.0 occupied sites\n",
      "Warning: made 10 attemps at trying to embed TAL1_known1-GATGACAGATGGCAAT in region of length 200 with 52.0 occupied sites\n",
      "Warning: made 10 attemps at trying to embed TAL1_known1-TGGACCAGATGTTGAG in region of length 200 with 52.0 occupied sites\n",
      "Warning: made 10 attemps at trying to embed TAL1_known1-CGGAACAGATGGTCTC in region of length 200 with 62.0 occupied sites\n",
      "Warning: made 10 attemps at trying to embed TAL1_known1-TACAACAGATGGTTAA in region of length 200 with 62.0 occupied sites\n",
      "Warning: made 10 attemps at trying to embed TAL1_known1-GCCAACAGATGGTGCT in region of length 200 with 46.0 occupied sites\n",
      "Warning: made 10 attemps at trying to embed TAL1_known1-GCGTACAGATGTTTTA in region of length 200 with 42.0 occupied sites\n",
      "Warning: made 10 attemps at trying to embed TAL1_known1-GAGAGCAGATGGCTTT in region of length 200 with 62.0 occupied sites\n",
      "Warning: made 10 attemps at trying to embed TAL1_known1-AGCGACAGATGTCCGG in region of length 200 with 62.0 occupied sites\n",
      "Warning: made 10 attemps at trying to embed TAL1_known1-TGTAACAGGTGTTCGA in region of length 200 with 46.0 occupied sites\n",
      "Warning: made 10 attemps at trying to embed TAL1_known1-ACGTACAGGTGGCCCG in region of length 200 with 62.0 occupied sites\n",
      "Warning: made 10 attemps at trying to embed TAL1_known1-CTGAACAGGTGGTACA in region of length 200 with 36.0 occupied sites\n",
      "Warning: made 10 attemps at trying to embed TAL1_known1-CTTAACAGTTGGTCTT in region of length 200 with 46.0 occupied sites\n",
      "Warning: made 10 attemps at trying to embed TAL1_known1-CGAACCAGGTGGCAGG in region of length 200 with 62.0 occupied sites\n",
      "Warning: made 10 attemps at trying to embed TAL1_known1-GAGAACAGATGGTAAC in region of length 200 with 52.0 occupied sites\n",
      "Warning: made 10 attemps at trying to embed TAL1_known1-GTCAACAGATGGTCCT in region of length 200 with 46.0 occupied sites\n",
      "warning: made 10 tries at trying to sample from distribution with min/max limits\n",
      "warning: made 10 tries at trying to sample from distribution with min/max limits\n",
      "warning: made 10 tries at trying to sample from distribution with min/max limits\n",
      "Warning: made 10 attemps at trying to embed IRF_known1-CAAAAGTGACAGC in region of length 200 with 56.0 occupied sites\n",
      "Warning: made 10 attemps at trying to embed IRF_known1-GAAAACTGAAAGC in region of length 200 with 56.0 occupied sites\n",
      "warning: made 10 tries at trying to sample from distribution with min/max limits\n",
      "warning: made 10 tries at trying to sample from distribution with min/max limits\n",
      "warning: made 10 tries at trying to sample from distribution with min/max limits\n",
      "warning: made 10 tries at trying to sample from distribution with min/max limits\n",
      "warning: made 10 tries at trying to sample from distribution with min/max limits\n",
      "warning: made 10 tries at trying to sample from distribution with min/max limits\n",
      "Warning: made 10 attemps at trying to embed TAL1_known1-TCAAACAGATGGTCTG in region of length 200 with 62.0 occupied sites\n",
      "Warning: made 10 attemps at trying to embed TAL1_known1-TTAATCAGATGTCCGG in region of length 200 with 62.0 occupied sites\n",
      "Warning: made 10 attemps at trying to embed TAL1_known1-CCGTTCAGATGGTCAA in region of length 200 with 52.0 occupied sites\n",
      "Warning: made 10 attemps at trying to embed TAL1_known1-TGCAACAGATGTCCTA in region of length 200 with 62.0 occupied sites\n",
      "Warning: made 10 attemps at trying to embed TAL1_known1-CCTAACAGATGTTGCC in region of length 200 with 62.0 occupied sites\n",
      "Warning: made 10 attemps at trying to embed TAL1_known1-CTGACCAGGTGGTCTT in region of length 200 with 52.0 occupied sites\n",
      "Warning: made 10 attemps at trying to embed TAL1_known1-CTTACCAGATGTTGGG in region of length 200 with 62.0 occupied sites\n",
      "Warning: made 10 attemps at trying to embed TAL1_known1-GTGAACAGATGGTAAG in region of length 200 with 62.0 occupied sites\n",
      "Warning: made 10 attemps at trying to embed TAL1_known1-CAGAACAGATGGTATT in region of length 200 with 46.0 occupied sites\n",
      "Warning: made 10 attemps at trying to embed TAL1_known1-AGCAACAGATGGTTCC in region of length 200 with 52.0 occupied sites\n",
      "Warning: made 10 attemps at trying to embed TAL1_known1-CCGTACAGATGTCTCG in region of length 200 with 62.0 occupied sites\n",
      "Warning: made 10 attemps at trying to embed TAL1_known1-GCTAACAGATGGTACG in region of length 200 with 52.0 occupied sites\n",
      "Warning: made 10 attemps at trying to embed TAL1_known1-CACAACAGATGTCACA in region of length 200 with 46.0 occupied sites\n",
      "warning: made 10 tries at trying to sample from distribution with min/max limits\n",
      "warning: made 10 tries at trying to sample from distribution with min/max limits\n",
      "warning: made 10 tries at trying to sample from distribution with min/max limits\n",
      "warning: made 10 tries at trying to sample from distribution with min/max limits\n",
      "Warning: made 10 attemps at trying to embed IRF_known1-TAAAACTGAAAGC in region of length 200 with 43.0 occupied sites\n",
      "Warning: made 10 attemps at trying to embed IRF_known1-GAAAAGTGAAAGC in region of length 200 with 56.0 occupied sites\n",
      "Warning: made 10 attemps at trying to embed IRF_known1-CAAAAGTGAAACC in region of length 200 with 36.0 occupied sites\n",
      "Warning: made 10 attemps at trying to embed IRF_known1-GAAAAGTGAAACC in region of length 200 with 43.0 occupied sites\n",
      "warning: made 10 tries at trying to sample from distribution with min/max limits\n",
      "Warning: made 10 attemps at trying to embed IRF_known1-GAAAACTGAAAGT in region of length 200 with 61.0 occupied sites\n",
      "Warning: made 10 attemps at trying to embed IRF_known1-CAAAAGCGAAAGC in region of length 200 with 42.0 occupied sites\n",
      "Warning: made 10 attemps at trying to embed IRF_known1-GAAAACCGAAAGC in region of length 200 with 74.0 occupied sites\n",
      "Warning: made 10 attemps at trying to embed IRF_known1-GAAAAGTGAAACT in region of length 200 with 74.0 occupied sites\n",
      "Warning: made 10 attemps at trying to embed IRF_known1-CAAAACTGAAACC in region of length 200 with 74.0 occupied sites\n",
      "Warning: made 10 attemps at trying to embed IRF_known1-CAAAACCGAAAGT in region of length 200 with 61.0 occupied sites\n"
     ]
    },
    {
     "name": "stdout",
     "output_type": "stream",
     "text": [
      "Warning: made 10 attemps at trying to embed IRF_known1-GAAAAGCGAAACT in region of length 200 with 61.0 occupied sites\n",
      "Warning: made 10 attemps at trying to embed IRF_known1-CAAAACTGAAACA in region of length 200 with 58.0 occupied sites\n",
      "Warning: made 10 attemps at trying to embed IRF_known1-GAAAAGTAAAACC in region of length 200 with 61.0 occupied sites\n",
      "Warning: made 10 attemps at trying to embed IRF_known1-CAAAATCGAAACC in region of length 200 with 58.0 occupied sites\n",
      "Warning: made 10 attemps at trying to embed IRF_known1-CAATAGTGAAACT in region of length 200 with 45.0 occupied sites\n",
      "Warning: made 10 attemps at trying to embed IRF_known1-CAAAAGTGAAACC in region of length 200 with 61.0 occupied sites\n",
      "Warning: made 20 attemps at trying to embed IRF_known1-CAAAAGTGAAACC in region of length 200 with 61.0 occupied sites\n",
      "Warning: made 10 attemps at trying to embed TAL1_known1-GGTAACAGATGGCAGC in region of length 200 with 32.0 occupied sites\n",
      "Warning: made 10 attemps at trying to embed IRF_known1-GAAAAGTGAAAAC in region of length 200 with 48.0 occupied sites\n",
      "Warning: made 10 attemps at trying to embed IRF_known1-GAAAAGCGAAACT in region of length 200 with 58.0 occupied sites\n"
     ]
    }
   ],
   "source": [
    "training_data_count = 10000\n",
    "testing_data_count = 200\n",
    "\n",
    "for i in range(len(all_motifs)):\n",
    "    for j in range(i + 1, len(all_motifs)):\n",
    "        data_bundle = [\n",
    "            [], \n",
    "            [all_motifs[i]], \n",
    "            [all_motifs[j]], \n",
    "            [all_motifs[i], all_motifs[j]]]\n",
    "        training_data = data_gen(training_data_count, data_bundle)\n",
    "        with open('../data/training_' + all_motifs[i] + '_' + all_motifs[j] + '.npy', 'wb') as f:\n",
    "            np.save(f, training_data)\n",
    "        testing_data = data_gen(testing_data_count, data_bundle)\n",
    "        with open('../data/testing_' + all_motifs[i] + '_' + all_motifs[j] + '.npy', 'wb') as f:\n",
    "            np.save(f, testing_data)\n"
   ]
  },
  {
   "cell_type": "code",
   "execution_count": 9,
   "id": "c0331189",
   "metadata": {},
   "outputs": [
    {
     "name": "stdout",
     "output_type": "stream",
     "text": [
      "warning: made 10 tries at trying to sample from distribution with min/max limits\n",
      "warning: made 10 tries at trying to sample from distribution with min/max limits\n",
      "warning: made 10 tries at trying to sample from distribution with min/max limits\n",
      "warning: made 10 tries at trying to sample from distribution with min/max limits\n",
      "warning: made 10 tries at trying to sample from distribution with min/max limits\n",
      "warning: made 10 tries at trying to sample from distribution with min/max limits\n"
     ]
    }
   ],
   "source": [
    "training_data_count = 10000\n",
    "testing_data_count = 200\n",
    "\n",
    "for motif in all_motifs:\n",
    "        data_bundle = [[], [motif]]\n",
    "        training_data = data_gen(training_data_count, data_bundle)\n",
    "        with open('../data/training_' + motif + '.npy', 'wb') as f:\n",
    "            np.save(f, training_data)\n",
    "        testing_data = data_gen(testing_data_count, data_bundle)\n",
    "        with open('../data/testing_' + motif + '.npy', 'wb') as f:\n",
    "            np.save(f, testing_data)\n"
   ]
  },
  {
   "cell_type": "code",
   "execution_count": null,
   "id": "e21d1ca5",
   "metadata": {},
   "outputs": [],
   "source": []
  }
 ],
 "metadata": {
  "colab": {
   "collapsed_sections": [],
   "name": "Data generation.ipynb",
   "provenance": []
  },
  "kernelspec": {
   "display_name": "Python 3",
   "language": "python",
   "name": "python3"
  },
  "language_info": {
   "codemirror_mode": {
    "name": "ipython",
    "version": 3
   },
   "file_extension": ".py",
   "mimetype": "text/x-python",
   "name": "python",
   "nbconvert_exporter": "python",
   "pygments_lexer": "ipython3",
   "version": "3.7.10"
  }
 },
 "nbformat": 4,
 "nbformat_minor": 5
}
