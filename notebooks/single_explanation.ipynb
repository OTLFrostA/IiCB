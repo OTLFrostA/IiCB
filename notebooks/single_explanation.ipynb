{
 "cells": [
  {
   "cell_type": "code",
   "execution_count": 32,
   "id": "eOBa3cvuxZ5q",
   "metadata": {
    "colab": {
     "base_uri": "https://localhost:8080/"
    },
    "executionInfo": {
     "elapsed": 23316,
     "status": "ok",
     "timestamp": 1635989119494,
     "user": {
      "displayName": "Wenbo Cui",
      "photoUrl": "https://lh3.googleusercontent.com/a/default-user=s64",
      "userId": "17753742665139675012"
     },
     "user_tz": 240
    },
    "id": "eOBa3cvuxZ5q",
    "outputId": "ddfa93ed-b579-4df6-ca64-a416cc1c9418"
   },
   "outputs": [
    {
     "name": "stdout",
     "output_type": "stream",
     "text": [
      "Tensorflow version: 1.14.0\n",
      "Keras version: 2.2.4\n",
      "Numpy version: 1.16.5\n"
     ]
    }
   ],
   "source": [
    "%run common.ipynb"
   ]
  },
  {
   "cell_type": "markdown",
   "id": "52e6683f",
   "metadata": {},
   "source": [
    "## change method/model name to explore other model"
   ]
  },
  {
   "cell_type": "code",
   "execution_count": 33,
   "id": "3da11862",
   "metadata": {
    "id": "3da11862",
    "scrolled": true
   },
   "outputs": [],
   "source": [
    "m2, m1 = IRF_known1, GATA_disc1\n",
    "method = check_and(m1, m2)\n",
    "keras_model_weights = '../model/model_and_' + m1 + '_' + m2 + '.h5'\n",
    "keras_model_json = '../model/model_and_' + m1 + '_' + m2 + '.json'\n",
    "keras_model = load_trained_model(keras_model_weights, keras_model_json)\n",
    "testing_data = load_data(method, '../data/testing_' + m1 + '_' + m2 + '.npy')"
   ]
  },
  {
   "cell_type": "code",
   "execution_count": 34,
   "id": "c3dfdf27",
   "metadata": {},
   "outputs": [
    {
     "data": {
      "text/plain": [
       "0.9844777777777778"
      ]
     },
     "execution_count": 34,
     "metadata": {},
     "output_type": "execute_result"
    }
   ],
   "source": [
    "tr = testing_data.labels\n",
    "pr = keras_model.predict(testing_data.onehot)\n",
    "import sklearn\n",
    "from sklearn import metrics\n",
    "sklearn.metrics.roc_auc_score(tr, pr)\n",
    "# print(tr.mean())"
   ]
  },
  {
   "cell_type": "code",
   "execution_count": 35,
   "id": "c12d090d",
   "metadata": {
    "colab": {
     "base_uri": "https://localhost:8080/"
    },
    "executionInfo": {
     "elapsed": 1915,
     "status": "ok",
     "timestamp": 1633410519007,
     "user": {
      "displayName": "Wenbo Cui",
      "photoUrl": "https://lh3.googleusercontent.com/a/default-user=s64",
      "userId": "17753742665139675012"
     },
     "user_tz": 240
    },
    "id": "c12d090d",
    "outputId": "d9ab0cea-f487-4356-aa12-2f52af314658"
   },
   "outputs": [
    {
     "name": "stdout",
     "output_type": "stream",
     "text": [
      "nonlinear_mxts_mode is set to: DeepLIFT_GenomicsDefault\n"
     ]
    },
    {
     "name": "stderr",
     "output_type": "stream",
     "text": [
      "/home/wenboc/anaconda3/envs/deeplift/lib/python3.7/site-packages/deeplift/conversion/kerasapi_conversion.py:366: H5pyDeprecationWarning: The default file mode will change to 'r' (read-only) in h5py 3.0. To suppress this warning, pass the mode you need to h5py.File(), or set the global default h5.get_config().default_file_mode, or set the environment variable H5PY_DEFAULT_READONLY=1. Available modes are: 'r', 'r+', 'w', 'w-'/'x', 'a'. See the docs for details.\n",
      "  model_weights = h5py.File(h5_file)\n"
     ]
    },
    {
     "name": "stdout",
     "output_type": "stream",
     "text": [
      "For layer 1 the preceding linear layer is 0 of type Conv1D;\n",
      "In accordance with nonlinear_mxts_mode=DeepLIFT_GenomicsDefault we are setting the NonlinearMxtsMode to Rescale\n",
      "For layer 3 the preceding linear layer is 2 of type Conv1D;\n",
      "In accordance with nonlinear_mxts_mode=DeepLIFT_GenomicsDefault we are setting the NonlinearMxtsMode to Rescale\n",
      "For layer 7 the preceding linear layer is 6 of type Dense;\n",
      "In accordance with nonlinear_mxts_modeDeepLIFT_GenomicsDefault we are setting the NonlinearMxtsMode to RevealCancel\n",
      "For layer 10 the preceding linear layer is 9 of type Dense;\n",
      "In accordance with nonlinear_mxts_modeDeepLIFT_GenomicsDefault we are setting the NonlinearMxtsMode to RevealCancel\n",
      "nonlinear_mxts_mode is set to: Rescale\n",
      "nonlinear_mxts_mode is set to: RevealCancel\n",
      "nonlinear_mxts_mode is set to: Gradient\n",
      "nonlinear_mxts_mode is set to: GuidedBackprop\n"
     ]
    }
   ],
   "source": [
    "from deeplift.layers import NonlinearMxtsMode\n",
    "import deeplift.conversion.kerasapi_conversion as kc\n",
    "from collections import OrderedDict\n",
    "\n",
    "method_to_model = OrderedDict()\n",
    "for method_name, nonlinear_mxts_mode in [\n",
    "    #The genomics default = rescale on conv layers, revealcance on fully-connected\n",
    "    ('rescale_conv_revealcancel_fc', NonlinearMxtsMode.DeepLIFT_GenomicsDefault),\n",
    "    ('rescale_all_layers', NonlinearMxtsMode.Rescale),\n",
    "    ('revealcancel_all_layers', NonlinearMxtsMode.RevealCancel),\n",
    "    ('grad_times_inp', NonlinearMxtsMode.Gradient),\n",
    "    ('guided_backprop', NonlinearMxtsMode.GuidedBackprop)]:\n",
    "    method_to_model[method_name] = kc.convert_model_from_saved_files(\n",
    "        h5_file=keras_model_weights,\n",
    "        json_file=keras_model_json,\n",
    "        nonlinear_mxts_mode=nonlinear_mxts_mode)"
   ]
  },
  {
   "cell_type": "code",
   "execution_count": 36,
   "id": "8ddddc05",
   "metadata": {
    "colab": {
     "base_uri": "https://localhost:8080/"
    },
    "executionInfo": {
     "elapsed": 2897,
     "status": "ok",
     "timestamp": 1633410521900,
     "user": {
      "displayName": "Wenbo Cui",
      "photoUrl": "https://lh3.googleusercontent.com/a/default-user=s64",
      "userId": "17753742665139675012"
     },
     "user_tz": 240
    },
    "id": "8ddddc05",
    "outputId": "cfc3b2ae-ff11-4032-ee3e-7f59698937d0"
   },
   "outputs": [
    {
     "name": "stdout",
     "output_type": "stream",
     "text": [
      "maximum difference in predictions: 0.0\n"
     ]
    }
   ],
   "source": [
    "#make sure predictions are the same as the original model\n",
    "import deeplift\n",
    "from deeplift.util import compile_func\n",
    "model_to_test = method_to_model['rescale_conv_revealcancel_fc']\n",
    "deeplift_prediction_func = compile_func([model_to_test.get_layers()[0].get_activation_vars()],\n",
    "                                         model_to_test.get_layers()[-1].get_activation_vars())\n",
    "original_model_predictions = keras_model.predict(testing_data.onehot, batch_size=200)\n",
    "converted_model_predictions = deeplift.util.run_function_in_batches(\n",
    "                                input_data_list=[testing_data.onehot],\n",
    "                                func=deeplift_prediction_func,\n",
    "                                batch_size=200,\n",
    "                                progress_update=None)\n",
    "print(\"maximum difference in predictions:\",np.max(np.array(converted_model_predictions)-np.array(original_model_predictions)))\n",
    "assert np.max(np.array(converted_model_predictions)-np.array(original_model_predictions)) < 10**-5\n",
    "predictions = converted_model_predictions"
   ]
  },
  {
   "cell_type": "code",
   "execution_count": 37,
   "id": "708de994",
   "metadata": {
    "colab": {
     "base_uri": "https://localhost:8080/"
    },
    "executionInfo": {
     "elapsed": 10260,
     "status": "ok",
     "timestamp": 1633410532156,
     "user": {
      "displayName": "Wenbo Cui",
      "photoUrl": "https://lh3.googleusercontent.com/a/default-user=s64",
      "userId": "17753742665139675012"
     },
     "user_tz": 240
    },
    "id": "708de994",
    "outputId": "735087ee-d37e-4a91-f0ba-a13f916179dc"
   },
   "outputs": [
    {
     "name": "stdout",
     "output_type": "stream",
     "text": [
      "Compiling scoring functions\n",
      "Compiling scoring function for: rescale_conv_revealcancel_fc\n",
      "Compiling scoring function for: rescale_all_layers\n",
      "Compiling scoring function for: revealcancel_all_layers\n",
      "Compiling scoring function for: grad_times_inp\n",
      "Compiling scoring function for: guided_backprop\n",
      "Compiling integrated gradients scoring functions\n"
     ]
    }
   ],
   "source": [
    "print(\"Compiling scoring functions\")\n",
    "method_to_scoring_func = OrderedDict()\n",
    "for method,model in method_to_model.items():\n",
    "    print(\"Compiling scoring function for: \"+method)\n",
    "    method_to_scoring_func[method] = model.get_target_contribs_func(find_scores_layer_idx=0,\n",
    "                                                                    target_layer_idx=-2)\n",
    "    \n",
    "#To get a function that just gives the gradients, we use the multipliers of the Gradient model\n",
    "gradient_func = method_to_model['grad_times_inp'].get_target_multipliers_func(find_scores_layer_idx=0,\n",
    "                                                                              target_layer_idx=-2)\n",
    "print(\"Compiling integrated gradients scoring functions\")\n",
    "integrated_gradients10_func = deeplift.util.get_integrated_gradients_function(\n",
    "    gradient_computation_function = gradient_func,\n",
    "    num_intervals=10)\n",
    "method_to_scoring_func['integrated_gradients10'] = integrated_gradients10_func"
   ]
  },
  {
   "cell_type": "code",
   "execution_count": 38,
   "id": "97901dc7",
   "metadata": {
    "colab": {
     "base_uri": "https://localhost:8080/"
    },
    "executionInfo": {
     "elapsed": 191155,
     "status": "ok",
     "timestamp": 1633410723299,
     "user": {
      "displayName": "Wenbo Cui",
      "photoUrl": "https://lh3.googleusercontent.com/a/default-user=s64",
      "userId": "17753742665139675012"
     },
     "user_tz": 240
    },
    "id": "97901dc7",
    "outputId": "250109cd-42fa-423f-e1c9-e2210c6fca10"
   },
   "outputs": [
    {
     "name": "stdout",
     "output_type": "stream",
     "text": [
      "on method rescale_conv_revealcancel_fc\n",
      "on method rescale_all_layers\n",
      "on method revealcancel_all_layers\n",
      "on method grad_times_inp\n",
      "on method guided_backprop\n",
      "on method integrated_gradients10\n"
     ]
    }
   ],
   "source": [
    "background = OrderedDict([('A', 0.3), ('C', 0.2), ('G', 0.2), ('T', 0.3)])\n",
    "\n",
    "from collections import OrderedDict\n",
    "method_to_task_to_scores = OrderedDict()\n",
    "for method_name, score_func in method_to_scoring_func.items():\n",
    "    print(\"on method\",method_name)\n",
    "    method_to_task_to_scores[method_name] = OrderedDict()\n",
    "    for task_idx in [0,1,2]:\n",
    "        scores = np.array(score_func(\n",
    "                    task_idx=task_idx,\n",
    "                    input_data_list=[testing_data.onehot],\n",
    "                    input_references_list=[\n",
    "                     np.array([background['A'],\n",
    "                               background['C'],\n",
    "                               background['G'],\n",
    "                               background['T']])[None,None,:]],\n",
    "                    batch_size=200,\n",
    "                    progress_update=None))\n",
    "        assert scores.shape[2]==4\n",
    "        #The sum over the ACGT axis in the code below is important! Recall that DeepLIFT\n",
    "        # assigns contributions based on difference-from-reference; if\n",
    "        # a position is [1,0,0,0] (i.e. 'A') in the actual sequence and [0.3, 0.2, 0.2, 0.3]\n",
    "        # in the reference, importance will be assigned to the difference (1-0.3)\n",
    "        # in the 'A' channel, (0-0.2) in the 'C' channel,\n",
    "        # (0-0.2) in the G channel, and (0-0.3) in the T channel. You want to take the importance\n",
    "        # on all four channels and sum them up, so that at visualization-time you can project the\n",
    "        # total importance over all four channels onto the base that is actually present (i.e. the 'A'). If you\n",
    "        # don't do this, your visualization will look very confusing as multiple bases will be highlighted at\n",
    "        # every position and you won't know which base is the one that is actually present in the sequence!\n",
    "        scores = np.sum(scores, axis=2)\n",
    "        method_to_task_to_scores[method_name][task_idx] = scores"
   ]
  },
  {
   "cell_type": "code",
   "execution_count": 39,
   "id": "11ad62ec",
   "metadata": {
    "colab": {
     "base_uri": "https://localhost:8080/"
    },
    "executionInfo": {
     "elapsed": 203352,
     "status": "ok",
     "timestamp": 1633410926637,
     "user": {
      "displayName": "Wenbo Cui",
      "photoUrl": "https://lh3.googleusercontent.com/a/default-user=s64",
      "userId": "17753742665139675012"
     },
     "user_tz": 240
    },
    "id": "11ad62ec",
    "outputId": "62d57dd7-af77-4e23-d63d-69f289f60d40",
    "scrolled": false
   },
   "outputs": [
    {
     "name": "stdout",
     "output_type": "stream",
     "text": [
      "1000 reference seqs generated\n",
      "2000 reference seqs generated\n",
      "3000 reference seqs generated\n",
      "4000 reference seqs generated\n",
      "5000 reference seqs generated\n",
      "6000 reference seqs generated\n",
      "7000 reference seqs generated\n",
      "8000 reference seqs generated\n",
      "9000 reference seqs generated\n",
      "10000 reference seqs generated\n",
      "11000 reference seqs generated\n",
      "12000 reference seqs generated\n",
      "13000 reference seqs generated\n",
      "14000 reference seqs generated\n",
      "15000 reference seqs generated\n",
      "16000 reference seqs generated\n",
      "One hot encoding sequences...\n",
      "One hot encoding done...\n",
      "Done 0\n",
      "Done 1000\n",
      "Done 2000\n",
      "Done 3000\n",
      "Done 4000\n",
      "Done 5000\n",
      "Done 6000\n",
      "Done 7000\n",
      "Done 8000\n",
      "Done 9000\n",
      "Done 10000\n",
      "Done 11000\n",
      "Done 12000\n",
      "Done 13000\n",
      "Done 14000\n",
      "Done 15000\n",
      "Done 0\n",
      "Done 1000\n",
      "Done 2000\n",
      "Done 3000\n",
      "Done 4000\n",
      "Done 5000\n",
      "Done 6000\n",
      "Done 7000\n",
      "Done 8000\n",
      "Done 9000\n",
      "Done 10000\n",
      "Done 11000\n",
      "Done 12000\n",
      "Done 13000\n",
      "Done 14000\n",
      "Done 15000\n",
      "Done 0\n",
      "Done 1000\n",
      "Done 2000\n",
      "Done 3000\n",
      "Done 4000\n",
      "Done 5000\n",
      "Done 6000\n",
      "Done 7000\n",
      "Done 8000\n",
      "Done 9000\n",
      "Done 10000\n",
      "Done 11000\n",
      "Done 12000\n",
      "Done 13000\n",
      "Done 14000\n",
      "Done 15000\n"
     ]
    }
   ],
   "source": [
    "from deeplift.util import get_shuffle_seq_ref_function\n",
    "#from deeplift.util import randomly_shuffle_seq\n",
    "from deeplift.dinuc_shuffle import dinuc_shuffle #function to do a dinucleotide shuffle\n",
    "\n",
    "rescale_conv_revealcancel_fc_many_refs_func = get_shuffle_seq_ref_function(\n",
    "    #score_computation_function is the original function to compute scores\n",
    "    score_computation_function=method_to_scoring_func['rescale_conv_revealcancel_fc'],\n",
    "    #shuffle_func is the function that shuffles the sequence\n",
    "    #technically, given the background of this simulation, randomly_shuffle_seq\n",
    "    #makes more sense. However, on real data, a dinuc shuffle is advisable due to\n",
    "    #the strong bias against CG dinucleotides\n",
    "    shuffle_func=dinuc_shuffle,\n",
    "    one_hot_func=lambda x: np.array([one_hot_encode_along_channel_axis(seq) for seq in x]))\n",
    "\n",
    "num_refs_per_seq=20 #number of references to generate per sequence\n",
    "method_to_task_to_scores['rescale_conv_revealcancel_fc_multiref_'+str(num_refs_per_seq)] = OrderedDict()\n",
    "scores_without_sum_applied = rescale_conv_revealcancel_fc_many_refs_func(\n",
    "            task_idx=[0,1,2], #can provide a list of tasks; references will be reused for each\n",
    "            #Providing a single integeter for task_idx works too and would return a numpy array rather\n",
    "            # than a list of numpy arrays\n",
    "            input_data_sequences=testing_data.sequences,\n",
    "            num_refs_per_seq=num_refs_per_seq,\n",
    "            batch_size=200,\n",
    "            progress_update=1000)\n",
    "for task_idx, scores in enumerate(scores_without_sum_applied):\n",
    "    #The sum over the ACGT axis in the code below is important! Recall that DeepLIFT\n",
    "    # assigns contributions based on difference-from-reference; if\n",
    "    # a position is [1,0,0,0] (i.e. 'A') in the actual sequence and [0, 1, 0, 0]\n",
    "    # in the reference, importance will be assigned to the difference (1-0)\n",
    "    # in the 'A' channel, and (0-1) in the 'C' channel. You want to take the importance\n",
    "    # on all channels and sum them up, so that at visualization-time you can project the\n",
    "    # total importance over all four channels onto the base that is actually present (i.e. the 'A'). If you\n",
    "    # don't do this, your visualization will look very confusing as multiple bases will be highlighted at\n",
    "    # every position and you won't know which base is the one that is actually present in the sequence!\n",
    "    method_to_task_to_scores['rescale_conv_revealcancel_fc_multiref_'+str(num_refs_per_seq)][task_idx] =\\\n",
    "        np.sum(scores,axis=2)"
   ]
  },
  {
   "cell_type": "code",
   "execution_count": 40,
   "id": "e807da2f",
   "metadata": {},
   "outputs": [
    {
     "name": "stdout",
     "output_type": "stream",
     "text": [
      "[1 1 1]\n"
     ]
    }
   ],
   "source": [
    "print(testing_data.labels[709])"
   ]
  },
  {
   "cell_type": "markdown",
   "id": "9182727a",
   "metadata": {},
   "source": [
    "## Change idx to see explanation for other sample"
   ]
  },
  {
   "cell_type": "code",
   "execution_count": 43,
   "id": "383995af",
   "metadata": {
    "colab": {
     "base_uri": "https://localhost:8080/",
     "height": 538
    },
    "executionInfo": {
     "elapsed": 11485,
     "status": "ok",
     "timestamp": 1633410938109,
     "user": {
      "displayName": "Wenbo Cui",
      "photoUrl": "https://lh3.googleusercontent.com/a/default-user=s64",
      "userId": "17753742665139675012"
     },
     "user_tz": 240
    },
    "id": "383995af",
    "outputId": "b87f3d62-6b70-4a7b-ad1f-88c0f22d2ccc",
    "scrolled": false
   },
   "outputs": [
    {
     "name": "stdout",
     "output_type": "stream",
     "text": [
      "Scores for task 0 for example 400\n"
     ]
    },
    {
     "data": {
      "image/png": "[encoded data removed]",
      "text/plain": [
       "<Figure size 1440x144 with 1 Axes>"
      ]
     },
     "metadata": {
      "needs_background": "light"
     },
     "output_type": "display_data"
    }
   ],
   "source": [
    "#visualize scores + ground-truth locations of motifs\n",
    "%matplotlib inline\n",
    "from deeplift.visualization import viz_sequence\n",
    "\n",
    "for task, idx in [(0,400)]:\n",
    "    print(\"Scores for task\",task,\"for example\",idx)\n",
    "    for method_name in [\n",
    "#                         'grad_times_inp',\n",
    "#                         'guided_backprop',\n",
    "#                         'integrated_gradients10',\n",
    "#                         'rescale_all_layers', \n",
    "#                         'revealcancel_all_layers',\n",
    "                        'rescale_conv_revealcancel_fc',\n",
    "#                         'rescale_conv_revealcancel_fc_multiref_'+str(num_refs_per_seq)\n",
    "                        ]:\n",
    "        scores = method_to_task_to_scores[method_name][task]\n",
    "        scores_for_idx = scores[idx]\n",
    "        original_onehot = testing_data.onehot[idx]\n",
    "        scores_for_idx = original_onehot*scores_for_idx[:,None]\n",
    "        highlight = {'blue':[\n",
    "                (embedding.startPos, embedding.startPos+len(embedding.what))\n",
    "                for embedding in testing_data.embeddings[idx] if 'GATA_disc1' in embedding.what.getDescription()],\n",
    "                'green':[\n",
    "                (embedding.startPos, embedding.startPos+len(embedding.what))\n",
    "                for embedding in testing_data.embeddings[idx] if 'TAL1_known1' in embedding.what.getDescription()],\n",
    "                'red':[\n",
    "                (embedding.startPos, embedding.startPos+len(embedding.what))\n",
    "                for embedding in testing_data.embeddings[idx] if 'IRF_known1' in embedding.what.getDescription()]\n",
    "                }\n",
    "        viz_sequence.plot_weights(scores_for_idx, subticks_frequency=10, highlight=highlight)"
   ]
  },
  {
   "cell_type": "code",
   "execution_count": null,
   "id": "fe9bd19d",
   "metadata": {},
   "outputs": [],
   "source": []
  }
 ],
 "metadata": {
  "colab": {
   "collapsed_sections": [],
   "name": "Explanation.ipynb",
   "provenance": []
  },
  "kernelspec": {
   "display_name": "Python 3",
   "language": "python",
   "name": "python3"
  },
  "language_info": {
   "codemirror_mode": {
    "name": "ipython",
    "version": 3
   },
   "file_extension": ".py",
   "mimetype": "text/x-python",
   "name": "python",
   "nbconvert_exporter": "python",
   "pygments_lexer": "ipython3",
   "version": "3.7.10"
  }
 },
 "nbformat": 4,
 "nbformat_minor": 5
}
