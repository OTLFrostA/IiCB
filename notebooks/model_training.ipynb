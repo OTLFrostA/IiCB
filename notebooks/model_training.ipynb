{
 "cells": [
  {
   "cell_type": "code",
   "execution_count": 1,
   "id": "HOPMIdFQpGa-",
   "metadata": {
    "colab": {
     "base_uri": "https://localhost:8080/"
    },
    "executionInfo": {
     "elapsed": 21458,
     "status": "ok",
     "timestamp": 1635353865749,
     "user": {
      "displayName": "Wenbo Cui",
      "photoUrl": "https://lh3.googleusercontent.com/a/default-user=s64",
      "userId": "17753742665139675012"
     },
     "user_tz": 240
    },
    "id": "HOPMIdFQpGa-",
    "outputId": "e6d49482-dc89-4188-ad22-b089590870a7"
   },
   "outputs": [
    {
     "name": "stdout",
     "output_type": "stream",
     "text": [
      "Tensorflow version: 1.15.0\n",
      "Keras version: 2.2.4\n",
      "Numpy version: 1.21.2\n"
     ]
    },
    {
     "name": "stderr",
     "output_type": "stream",
     "text": [
      "Using TensorFlow backend.\n"
     ]
    }
   ],
   "source": [
    "%run common.ipynb"
   ]
  },
  {
   "cell_type": "code",
   "execution_count": 2,
   "id": "ZRISv95120FH",
   "metadata": {
    "colab": {
     "base_uri": "https://localhost:8080/"
    },
    "executionInfo": {
     "elapsed": 1516284,
     "status": "ok",
     "timestamp": 1634015101942,
     "user": {
      "displayName": "Wenbo Cui",
      "photoUrl": "https://lh3.googleusercontent.com/a/default-user=s64",
      "userId": "17753742665139675012"
     },
     "user_tz": 240
    },
    "id": "ZRISv95120FH",
    "outputId": "cec9ecb2-0929-4700-cd0c-eefa273aa353",
    "scrolled": true
   },
   "outputs": [
    {
     "ename": "SyntaxError",
     "evalue": "invalid syntax (<ipython-input-2-64926b299eec>, line 9)",
     "output_type": "error",
     "traceback": [
      "\u001b[0;36m  File \u001b[0;32m\"<ipython-input-2-64926b299eec>\"\u001b[0;36m, line \u001b[0;32m9\u001b[0m\n\u001b[0;31m    check_and(all_motifs[i], all_motifs[j]))\u001b[0m\n\u001b[0m                                           ^\u001b[0m\n\u001b[0;31mSyntaxError\u001b[0m\u001b[0;31m:\u001b[0m invalid syntax\n"
     ]
    }
   ],
   "source": [
    "# Motif and\n",
    "data_bundles = []\n",
    "\n",
    "keras_model = load_trained_model('../model/base.h5', '../model/base.json')\n",
    "\n",
    "for i in range(len(all_motifs)):\n",
    "    for j in range(i + 1, len(all_motifs)):\n",
    "        # Load data\n",
    "        check_and(all_motifs[i], all_motifs[j])\n",
    "        training_data = load_data(method, 'data/training_' + all_motifs[i] + '_' + all_motifs[j] + '.npy')\n",
    "        testing_data = load_data(method, 'data/testing_' + all_motifs[i] + '_' + all_motifs[j] + '.npy')\n",
    "        \n",
    "        # Train model\n",
    "        opt = keras.optimizers.Adam(lr=0.0001)\n",
    "        keras_model.compile(optimizer=opt, loss='binary_crossentropy')\n",
    "        reset_weights(keras_model)\n",
    "        keras_model.fit(x=training_data.onehot, y=training_data.labels, epochs=100, shuffle=True)\n",
    "        \n",
    "        # Save model\n",
    "        keras_model.save_weights(mount_path + 'model_and_' + str(i) + '_' + str(j) + '.h5')\n",
    "        model_json = keras_model.to_json()\n",
    "        with open(mount_path + 'model_and_' + str(i) + '_' + str(j) + '.json', \"w\") as json_file:\n",
    "            json_file.write(model_json)"
   ]
  },
  {
   "cell_type": "code",
   "execution_count": null,
   "id": "59b16210",
   "metadata": {
    "colab": {
     "base_uri": "https://localhost:8080/"
    },
    "executionInfo": {
     "elapsed": 1516284,
     "status": "ok",
     "timestamp": 1634015101942,
     "user": {
      "displayName": "Wenbo Cui",
      "photoUrl": "https://lh3.googleusercontent.com/a/default-user=s64",
      "userId": "17753742665139675012"
     },
     "user_tz": 240
    },
    "id": "ZRISv95120FH",
    "outputId": "cec9ecb2-0929-4700-cd0c-eefa273aa353",
    "scrolled": true
   },
   "outputs": [],
   "source": [
    "# Motif or\n",
    "data_bundles = []\n",
    "\n",
    "keras_model = load_trained_model('../model/base.h5', '../model/base.json')\n",
    "\n",
    "for i in range(len(all_motifs)):\n",
    "    for j in range(i + 1, len(all_motifs)):\n",
    "        # Load data\n",
    "        check_or(all_motifs[i], all_motifs[j])\n",
    "        training_data = load_data(method, 'data/training_' + all_motifs[i] + '_' + all_motifs[j] + '.npy')\n",
    "        testing_data = load_data(method, 'data/testing_' + all_motifs[i] + '_' + all_motifs[j] + '.npy')\n",
    "        \n",
    "        # Train model\n",
    "        opt = keras.optimizers.Adam(lr=0.0001)\n",
    "        keras_model.compile(optimizer=opt, loss='binary_crossentropy')\n",
    "        reset_weights(keras_model)\n",
    "        keras_model.fit(x=training_data.onehot, y=training_data.labels, epochs=100, shuffle=True)\n",
    "        \n",
    "        # Save model\n",
    "        keras_model.save_weights(mount_path + 'model_or_' + str(i) + '_' + str(j) + '.h5')\n",
    "        model_json = keras_model.to_json()\n",
    "        with open(mount_path + 'model_or_' + str(i) + '_' + str(j) + '.json', \"w\") as json_file:\n",
    "            json_file.write(model_json)"
   ]
  },
  {
   "cell_type": "code",
   "execution_count": null,
   "id": "963a6069",
   "metadata": {
    "colab": {
     "base_uri": "https://localhost:8080/"
    },
    "executionInfo": {
     "elapsed": 1516284,
     "status": "ok",
     "timestamp": 1634015101942,
     "user": {
      "displayName": "Wenbo Cui",
      "photoUrl": "https://lh3.googleusercontent.com/a/default-user=s64",
      "userId": "17753742665139675012"
     },
     "user_tz": 240
    },
    "id": "ZRISv95120FH",
    "outputId": "cec9ecb2-0929-4700-cd0c-eefa273aa353",
    "scrolled": true
   },
   "outputs": [],
   "source": [
    "# Motif single\n",
    "data_bundles = []\n",
    "\n",
    "keras_model = load_trained_model('../model/base.h5', '../model/base.json')\n",
    "\n",
    "for i in range(len(all_motifs)):\n",
    "    # Load data\n",
    "    check(all_motifs[i])\n",
    "    training_data = load_data(method, 'data/training_' + all_motifs[i] + '_' + all_motifs[-1] + '.npy')\n",
    "    testing_data = load_data(method, 'data/testing_' + all_motifs[i] + '_' + all_motifs[-1] + '.npy')\n",
    "\n",
    "    # Train model\n",
    "    opt = keras.optimizers.Adam(lr=0.0001)\n",
    "    keras_model.compile(optimizer=opt, loss='binary_crossentropy')\n",
    "    reset_weights(keras_model)\n",
    "    keras_model.fit(x=training_data.onehot, y=training_data.labels, epochs=100, shuffle=True)\n",
    "\n",
    "    # Save model\n",
    "    keras_model.save_weights(mount_path + 'model_single_' + str(i) + '_' + str(j) + '.h5')\n",
    "    model_json = keras_model.to_json()\n",
    "    with open(mount_path + 'model_single_' + str(i) + '_' + str(j) + '.json', \"w\") as json_file:\n",
    "        json_file.write(model_json)"
   ]
  },
  {
   "cell_type": "code",
   "execution_count": null,
   "id": "60e2e920",
   "metadata": {},
   "outputs": [],
   "source": []
  }
 ],
 "metadata": {
  "accelerator": "GPU",
  "colab": {
   "collapsed_sections": [],
   "name": "Model training.ipynb",
   "provenance": []
  },
  "kernelspec": {
   "display_name": "Python 3",
   "language": "python",
   "name": "python3"
  },
  "language_info": {
   "codemirror_mode": {
    "name": "ipython",
    "version": 3
   },
   "file_extension": ".py",
   "mimetype": "text/x-python",
   "name": "python",
   "nbconvert_exporter": "python",
   "pygments_lexer": "ipython3",
   "version": "3.7.11"
  }
 },
 "nbformat": 4,
 "nbformat_minor": 5
}
