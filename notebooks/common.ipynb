{
 "cells": [
  {
   "cell_type": "code",
   "execution_count": 11,
   "id": "Wlnf2LlAge6y",
   "metadata": {
    "id": "Wlnf2LlAge6y"
   },
   "outputs": [],
   "source": [
    "# !wget https://raw.githubusercontent.com/kundajelab/deeplift/d95d41d/examples/genomics/grab_model_and_data.sh\n",
    "# !chmod a+x grab_model_and_data.sh\n",
    "# !./grab_model_and_data.sh"
   ]
  },
  {
   "cell_type": "code",
   "execution_count": 3,
   "id": "LAmWo3PmpCXq",
   "metadata": {
    "id": "LAmWo3PmpCXq"
   },
   "outputs": [
    {
     "name": "stdout",
     "output_type": "stream",
     "text": [
      "Tensorflow version: 1.15.0\n",
      "Keras version: 2.2.4\n",
      "Numpy version: 1.21.2\n"
     ]
    }
   ],
   "source": [
    "from __future__ import print_function\n",
    "import tensorflow\n",
    "print(\"Tensorflow version:\", tensorflow.__version__)\n",
    "import keras\n",
    "print(\"Keras version:\", keras.__version__)\n",
    "import numpy as np\n",
    "print(\"Numpy version:\", np.__version__)\n",
    "import simdna"
   ]
  },
  {
   "cell_type": "code",
   "execution_count": 4,
   "id": "12bae67b",
   "metadata": {
    "id": "12bae67b"
   },
   "outputs": [],
   "source": [
    "#this is set up for 1d convolutions where examples\n",
    "#have dimensions (len, num_channels)\n",
    "#the channel axis is the axis for one-hot encoding.\n",
    "def one_hot_encode_along_channel_axis(sequence):\n",
    "    to_return = np.zeros((len(sequence),4), dtype=np.int8)\n",
    "    seq_to_one_hot_fill_in_array(zeros_array=to_return,\n",
    "                                 sequence=sequence, one_hot_axis=1)\n",
    "    return to_return\n",
    "\n",
    "def seq_to_one_hot_fill_in_array(zeros_array, sequence, one_hot_axis):\n",
    "    assert one_hot_axis==0 or one_hot_axis==1\n",
    "    if (one_hot_axis==0):\n",
    "        assert zeros_array.shape[1] == len(sequence)\n",
    "    elif (one_hot_axis==1): \n",
    "        assert zeros_array.shape[0] == len(sequence)\n",
    "    #will mutate zeros_array\n",
    "    for (i,char) in enumerate(sequence):\n",
    "        if (char==\"A\" or char==\"a\"):\n",
    "            char_idx = 0\n",
    "        elif (char==\"C\" or char==\"c\"):\n",
    "            char_idx = 1\n",
    "        elif (char==\"G\" or char==\"g\"):\n",
    "            char_idx = 2\n",
    "        elif (char==\"T\" or char==\"t\"):\n",
    "            char_idx = 3\n",
    "        elif (char==\"N\" or char==\"n\"):\n",
    "            continue #leave that pos as all 0's\n",
    "        else:\n",
    "            raise RuntimeError(\"Unsupported character: \"+str(char))\n",
    "        if (one_hot_axis==0):\n",
    "            zeros_array[char_idx,i] = 1\n",
    "        elif (one_hot_axis==1):\n",
    "            zeros_array[i,char_idx] = 1"
   ]
  },
  {
   "cell_type": "code",
   "execution_count": 5,
   "id": "0Equ3yPL3DtY",
   "metadata": {
    "id": "0Equ3yPL3DtY"
   },
   "outputs": [],
   "source": [
    "def check(motif):\n",
    "    def fn(embeddings):\n",
    "        for embedding in embeddings:\n",
    "            if motif in embedding.what.getDescription():\n",
    "                return True\n",
    "        return False\n",
    "    return fn\n",
    "\n",
    "def check_and(m1, m2):\n",
    "    def fn(embeddings):\n",
    "        return check(m1)(embeddings) and check(m2)(embeddings)\n",
    "    return fn\n",
    "\n",
    "def check_or(m1, m2):\n",
    "    def fn(embeddings):\n",
    "        return check(m1)(embeddings) or check(m2)(embeddings)\n",
    "    return fn"
   ]
  },
  {
   "cell_type": "code",
   "execution_count": 6,
   "id": "mJ7q5L3Xoxzf",
   "metadata": {
    "id": "mJ7q5L3Xoxzf"
   },
   "outputs": [],
   "source": [
    "def load_data(positive_fn, file_path):\n",
    "    import numpy as np\n",
    "    with open(file_path, 'rb') as f:\n",
    "        data_out = np.load(f, allow_pickle='True')\n",
    "\n",
    "    embeddings = [data.embeddings for data in data_out]\n",
    "    sequences = [data.seq for data in data_out]\n",
    "    labels = np.array([[1, 1, 1] if positive_fn(embedding) else [0, 0, 0] for embedding in embeddings])\n",
    "    onehot = np.array([one_hot_encode_along_channel_axis(seq) for seq in sequences])\n",
    "\n",
    "    data = simdna.util.enum(embeddings=embeddings, sequences=sequences, labels=labels, onehot=onehot)\n",
    "\n",
    "    return data"
   ]
  },
  {
   "cell_type": "code",
   "execution_count": 7,
   "id": "JwdU8v835jNQ",
   "metadata": {
    "id": "JwdU8v835jNQ"
   },
   "outputs": [],
   "source": [
    "def reset_weights(model):\n",
    "    import keras.backend as K\n",
    "    session = K.get_session()\n",
    "    for layer in model.layers: \n",
    "        if hasattr(layer, 'kernel_initializer'): \n",
    "            layer.kernel.initializer.run(session=session)\n",
    "        if hasattr(layer, 'bias_initializer'):\n",
    "            layer.bias.initializer.run(session=session)     "
   ]
  },
  {
   "cell_type": "code",
   "execution_count": 8,
   "id": "dbe583d4",
   "metadata": {
    "id": "dbe583d4"
   },
   "outputs": [],
   "source": [
    "def load_trained_model(model_weights_path, model_json_path):\n",
    "    import deeplift\n",
    "    from keras.models import model_from_json\n",
    "\n",
    "    keras_model = model_from_json(open(model_json_path).read())\n",
    "    keras_model.load_weights(model_weights_path)\n",
    "    \n",
    "    # reset_weights(keras_model)\n",
    "    return keras_model"
   ]
  },
  {
   "cell_type": "code",
   "execution_count": 9,
   "id": "48b7e463",
   "metadata": {},
   "outputs": [],
   "source": [
    "SIX5_disc1 = 'SIX5_disc1'\n",
    "MYC_disc1 = 'MYC_disc1'\n",
    "SRF_disc1 = 'SRF_disc1'\n",
    "AP1_disc1 = 'AP1_disc1'\n",
    "GATA_disc1 = 'GATA_disc1'\n",
    "TAL1_known1 = 'TAL1_known1'\n",
    "IRF_known1 = 'IRF_known1'\n",
    "\n",
    "all_motifs = [SRF_disc1, AP1_disc1, GATA_disc1, TAL1_known1, IRF_known1]"
   ]
  }
 ],
 "metadata": {
  "colab": {
   "collapsed_sections": [],
   "name": "common.ipynb",
   "provenance": []
  },
  "kernelspec": {
   "display_name": "Python 3",
   "language": "python",
   "name": "python3"
  },
  "language_info": {
   "codemirror_mode": {
    "name": "ipython",
    "version": 3
   },
   "file_extension": ".py",
   "mimetype": "text/x-python",
   "name": "python",
   "nbconvert_exporter": "python",
   "pygments_lexer": "ipython3",
   "version": "3.7.11"
  }
 },
 "nbformat": 4,
 "nbformat_minor": 5
}
