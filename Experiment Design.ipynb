{
 "cells": [
  {
   "cell_type": "markdown",
   "id": "d83dbbda",
   "metadata": {},
   "source": [
    "### Prediction task: \n",
    "    TF-binding prediction"
   ]
  },
  {
   "cell_type": "markdown",
   "id": "bb1a9633",
   "metadata": {},
   "source": [
    "### Model design:\n",
    "    • Convolution with 50 filters of width 11\n",
    "    • ReLU\n",
    "    • Convolution with 50 filters of width 11\n",
    "    • ReLU\n",
    "    • Global Average Pooling\n",
    "    • Fully connected layer with 50 neurons\n",
    "    • ReLU\n",
    "    • Dropout layer with probability 0.5 of leaving out units\n",
    "    • Fully connected layer with 3 neurons\n",
    "    • Sigmoid output\n",
    "    \n",
    "    http://proceedings.mlr.press/v70/shrikumar17a/shrikumar17a-supp.pdf"
   ]
  },
  {
   "cell_type": "markdown",
   "id": "594c8f71",
   "metadata": {},
   "source": [
    "### IML method:\n",
    "    DEEPLift: https://github.com/kundajelab/deeplift"
   ]
  },
  {
   "cell_type": "markdown",
   "id": "82201039",
   "metadata": {},
   "source": [
    "### Data generation:\n",
    "    DNA sequence of length 200, with background distribution A/C/G/T: 0.3/0.2/0.2/0.3\n",
    "    Selected motifs are uniformly random positioned on the background, while the count of each motifs range from 1 to 3, with average sum equeals to 3\n",
    "\n",
    "    SIMDNA: https://github.com/kundajelab/simdna"
   ]
  },
  {
   "cell_type": "markdown",
   "id": "acb2c986",
   "metadata": {},
   "source": [
    "### Faithfulness verification:"
   ]
  },
  {
   "cell_type": "markdown",
   "id": "eb41d3f5",
   "metadata": {},
   "source": [
    "#### Set-up 1:\n",
    "    Label 1 if GATA exists, else 0\n",
    "    AUC-ROC: 0.9919193333333334"
   ]
  },
  {
   "cell_type": "markdown",
   "id": "eece3eda",
   "metadata": {},
   "source": [
    "#### Set-up 2:\n",
    "    Label 1 if either GATA or TAL1 exist, else 0"
   ]
  },
  {
   "cell_type": "markdown",
   "id": "1e2a3404",
   "metadata": {},
   "source": [
    "#### Set-up 3:\n",
    "    Label 1 if both GATA and TAL1 exist, else 0"
   ]
  },
  {
   "cell_type": "markdown",
   "id": "6c87f00a",
   "metadata": {},
   "source": [
    "#### Set-up 4:\n",
    "    Label 1 if both GATA and IRF exist, or GATA doesn't exist and TAL1 exist, else 0"
   ]
  },
  {
   "cell_type": "code",
   "execution_count": 8,
   "id": "c1e50872",
   "metadata": {},
   "outputs": [
    {
     "ename": "ValueError",
     "evalue": "Cannot embed the 'https://ibb.co/mnfxmvc' image format",
     "output_type": "error",
     "traceback": [
      "\u001b[0;31m---------------------------------------------------------------------------\u001b[0m",
      "\u001b[0;31mValueError\u001b[0m                                Traceback (most recent call last)",
      "\u001b[0;32m/tmp/ipykernel_898/1283541014.py\u001b[0m in \u001b[0;36m<module>\u001b[0;34m\u001b[0m\n\u001b[1;32m      1\u001b[0m \u001b[0;32mfrom\u001b[0m \u001b[0mIPython\u001b[0m\u001b[0;34m.\u001b[0m\u001b[0mdisplay\u001b[0m \u001b[0;32mimport\u001b[0m \u001b[0mImage\u001b[0m\u001b[0;34m\u001b[0m\u001b[0;34m\u001b[0m\u001b[0m\n\u001b[0;32m----> 2\u001b[0;31m \u001b[0mImage\u001b[0m\u001b[0;34m(\u001b[0m\u001b[0;34m'https://ibb.co/MnfXmvC'\u001b[0m\u001b[0;34m)\u001b[0m\u001b[0;34m\u001b[0m\u001b[0;34m\u001b[0m\u001b[0m\n\u001b[0m",
      "\u001b[0;32m~/anaconda3/envs/feedzai/lib/python3.7/site-packages/IPython/core/display.py\u001b[0m in \u001b[0;36m__init__\u001b[0;34m(self, data, url, filename, format, embed, width, height, retina, unconfined, metadata)\u001b[0m\n\u001b[1;32m   1221\u001b[0m \u001b[0;34m\u001b[0m\u001b[0m\n\u001b[1;32m   1222\u001b[0m         \u001b[0;32mif\u001b[0m \u001b[0mself\u001b[0m\u001b[0;34m.\u001b[0m\u001b[0membed\u001b[0m \u001b[0;32mand\u001b[0m \u001b[0mself\u001b[0m\u001b[0;34m.\u001b[0m\u001b[0mformat\u001b[0m \u001b[0;32mnot\u001b[0m \u001b[0;32min\u001b[0m \u001b[0mself\u001b[0m\u001b[0;34m.\u001b[0m\u001b[0m_ACCEPTABLE_EMBEDDINGS\u001b[0m\u001b[0;34m:\u001b[0m\u001b[0;34m\u001b[0m\u001b[0;34m\u001b[0m\u001b[0m\n\u001b[0;32m-> 1223\u001b[0;31m             \u001b[0;32mraise\u001b[0m \u001b[0mValueError\u001b[0m\u001b[0;34m(\u001b[0m\u001b[0;34m\"Cannot embed the '%s' image format\"\u001b[0m \u001b[0;34m%\u001b[0m \u001b[0;34m(\u001b[0m\u001b[0mself\u001b[0m\u001b[0;34m.\u001b[0m\u001b[0mformat\u001b[0m\u001b[0;34m)\u001b[0m\u001b[0;34m)\u001b[0m\u001b[0;34m\u001b[0m\u001b[0;34m\u001b[0m\u001b[0m\n\u001b[0m\u001b[1;32m   1224\u001b[0m         \u001b[0;32mif\u001b[0m \u001b[0mself\u001b[0m\u001b[0;34m.\u001b[0m\u001b[0membed\u001b[0m\u001b[0;34m:\u001b[0m\u001b[0;34m\u001b[0m\u001b[0;34m\u001b[0m\u001b[0m\n\u001b[1;32m   1225\u001b[0m             \u001b[0mself\u001b[0m\u001b[0;34m.\u001b[0m\u001b[0m_mimetype\u001b[0m \u001b[0;34m=\u001b[0m \u001b[0mself\u001b[0m\u001b[0;34m.\u001b[0m\u001b[0m_MIMETYPES\u001b[0m\u001b[0;34m.\u001b[0m\u001b[0mget\u001b[0m\u001b[0;34m(\u001b[0m\u001b[0mself\u001b[0m\u001b[0;34m.\u001b[0m\u001b[0mformat\u001b[0m\u001b[0;34m)\u001b[0m\u001b[0;34m\u001b[0m\u001b[0;34m\u001b[0m\u001b[0m\n",
      "\u001b[0;31mValueError\u001b[0m: Cannot embed the 'https://ibb.co/mnfxmvc' image format"
     ]
    }
   ],
   "source": [
    "from IPython.display import Image\n",
    "Image('https://ibb.co/MnfXmvC')"
   ]
  },
  {
   "cell_type": "code",
   "execution_count": null,
   "id": "87446dc9",
   "metadata": {},
   "outputs": [],
   "source": [
    "https://ibb.co/MnfXmvC\n",
    "https://ibb.co/7GpfRYs\n",
    "https://ibb.co/HxLRYFH\n",
    "https://ibb.co/YDG0B5B"
   ]
  },
  {
   "cell_type": "code",
   "execution_count": null,
   "id": "55960a0b",
   "metadata": {},
   "outputs": [],
   "source": []
  }
 ],
 "metadata": {
  "kernelspec": {
   "display_name": "Python 3 (ipykernel)",
   "language": "python",
   "name": "python3"
  },
  "language_info": {
   "codemirror_mode": {
    "name": "ipython",
    "version": 3
   },
   "file_extension": ".py",
   "mimetype": "text/x-python",
   "name": "python",
   "nbconvert_exporter": "python",
   "pygments_lexer": "ipython3",
   "version": "3.7.11"
  }
 },
 "nbformat": 4,
 "nbformat_minor": 5
}
